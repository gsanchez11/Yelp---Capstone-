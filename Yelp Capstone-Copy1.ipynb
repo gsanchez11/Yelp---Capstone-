{
 "cells": [
  {
   "cell_type": "code",
   "execution_count": 2,
   "metadata": {
    "collapsed": true
   },
   "outputs": [],
   "source": [
    "import pandas as pd\n",
    "import numpy as np\n",
    "import seaborn as sns\n",
    "import matplotlib as plt"
   ]
  },
  {
   "cell_type": "code",
   "execution_count": 2,
   "metadata": {
    "collapsed": false
   },
   "outputs": [],
   "source": [
    "import json\n",
    "\n"
   ]
  },
  {
   "cell_type": "code",
   "execution_count": 3,
   "metadata": {
    "collapsed": false
   },
   "outputs": [],
   "source": [
    "import pandas as pd\n",
    "\n",
    "# # read the entire file into a python array\n",
    "with open('/Users/gabrielanthonysanchez/Desktop/Data Science/DSI-projects/Python Tutorials/yelp/yelp_dataset_challenge_academic_dataset/yelp_academic_dataset_business.json', 'rb') as f:\n",
    "    data = f.readlines()\n",
    "\n",
    "# # remove the trailing \"\\n\" from each line\n",
    "data = map(lambda x: x.rstrip(), data)\n",
    "\n",
    "# # each element of 'data' is an individual JSON object.\n",
    "# # i want to convert it into an *array* of JSON objects\n",
    "# # which, in and of itself, is one large JSON object\n",
    "# # basically... add square brackets to the beginning\n",
    "# # and end, and have all the individual business JSON objects\n",
    "# # separated by a comma\n",
    "data_json_str = \"[\" + ','.join(data) + \"]\"\n",
    "#print data_json_str\n",
    "# # now, load it into pandas\n",
    "businesses = pd.read_json(data_json_str)"
   ]
  },
  {
   "cell_type": "code",
   "execution_count": 4,
   "metadata": {
    "collapsed": false
   },
   "outputs": [
    {
     "data": {
      "text/html": [
       "<div>\n",
       "<table border=\"1\" class=\"dataframe\">\n",
       "  <thead>\n",
       "    <tr style=\"text-align: right;\">\n",
       "      <th></th>\n",
       "      <th>attributes</th>\n",
       "      <th>business_id</th>\n",
       "      <th>categories</th>\n",
       "      <th>city</th>\n",
       "      <th>full_address</th>\n",
       "      <th>hours</th>\n",
       "      <th>latitude</th>\n",
       "      <th>longitude</th>\n",
       "      <th>name</th>\n",
       "      <th>neighborhoods</th>\n",
       "      <th>open</th>\n",
       "      <th>review_count</th>\n",
       "      <th>stars</th>\n",
       "      <th>state</th>\n",
       "      <th>type</th>\n",
       "    </tr>\n",
       "  </thead>\n",
       "  <tbody>\n",
       "    <tr>\n",
       "      <th>0</th>\n",
       "      <td>{u'Take-out': True, u'Drive-Thru': False, u'Ou...</td>\n",
       "      <td>5UmKMjUEUNdYWqANhGckJw</td>\n",
       "      <td>[Fast Food, Restaurants]</td>\n",
       "      <td>Dravosburg</td>\n",
       "      <td>4734 Lebanon Church Rd\\nDravosburg, PA 15034</td>\n",
       "      <td>{u'Tuesday': {u'close': u'21:00', u'open': u'1...</td>\n",
       "      <td>40.354327</td>\n",
       "      <td>-79.900706</td>\n",
       "      <td>Mr Hoagie</td>\n",
       "      <td>[]</td>\n",
       "      <td>True</td>\n",
       "      <td>7</td>\n",
       "      <td>3.5</td>\n",
       "      <td>PA</td>\n",
       "      <td>business</td>\n",
       "    </tr>\n",
       "    <tr>\n",
       "      <th>1</th>\n",
       "      <td>{u'Happy Hour': True, u'Accepts Credit Cards':...</td>\n",
       "      <td>UsFtqoBl7naz8AVUBZMjQQ</td>\n",
       "      <td>[Nightlife]</td>\n",
       "      <td>Dravosburg</td>\n",
       "      <td>202 McClure St\\nDravosburg, PA 15034</td>\n",
       "      <td>{}</td>\n",
       "      <td>40.350553</td>\n",
       "      <td>-79.886814</td>\n",
       "      <td>Clancy's Pub</td>\n",
       "      <td>[]</td>\n",
       "      <td>True</td>\n",
       "      <td>5</td>\n",
       "      <td>3.0</td>\n",
       "      <td>PA</td>\n",
       "      <td>business</td>\n",
       "    </tr>\n",
       "  </tbody>\n",
       "</table>\n",
       "</div>"
      ],
      "text/plain": [
       "                                          attributes             business_id  \\\n",
       "0  {u'Take-out': True, u'Drive-Thru': False, u'Ou...  5UmKMjUEUNdYWqANhGckJw   \n",
       "1  {u'Happy Hour': True, u'Accepts Credit Cards':...  UsFtqoBl7naz8AVUBZMjQQ   \n",
       "\n",
       "                 categories        city  \\\n",
       "0  [Fast Food, Restaurants]  Dravosburg   \n",
       "1               [Nightlife]  Dravosburg   \n",
       "\n",
       "                                   full_address  \\\n",
       "0  4734 Lebanon Church Rd\\nDravosburg, PA 15034   \n",
       "1          202 McClure St\\nDravosburg, PA 15034   \n",
       "\n",
       "                                               hours   latitude  longitude  \\\n",
       "0  {u'Tuesday': {u'close': u'21:00', u'open': u'1...  40.354327 -79.900706   \n",
       "1                                                 {}  40.350553 -79.886814   \n",
       "\n",
       "           name neighborhoods  open  review_count  stars state      type  \n",
       "0     Mr Hoagie            []  True             7    3.5    PA  business  \n",
       "1  Clancy's Pub            []  True             5    3.0    PA  business  "
      ]
     },
     "execution_count": 4,
     "metadata": {},
     "output_type": "execute_result"
    }
   ],
   "source": [
    "businesses.head(2)"
   ]
  },
  {
   "cell_type": "code",
   "execution_count": 5,
   "metadata": {
    "collapsed": false
   },
   "outputs": [],
   "source": [
    "businesses['full_address'] = businesses['full_address'].apply(lambda x: x.strip('\\n'))"
   ]
  },
  {
   "cell_type": "code",
   "execution_count": 6,
   "metadata": {
    "collapsed": false
   },
   "outputs": [],
   "source": [
    "del businesses['full_address']"
   ]
  },
  {
   "cell_type": "code",
   "execution_count": 7,
   "metadata": {
    "collapsed": false
   },
   "outputs": [],
   "source": [
    "del businesses['neighborhoods']"
   ]
  },
  {
   "cell_type": "code",
   "execution_count": 8,
   "metadata": {
    "collapsed": true
   },
   "outputs": [],
   "source": [
    "del businesses['review_count']\n",
    "del businesses['hours']\n",
    "del businesses['categories']\n",
    "del businesses['city']\n",
    "del businesses['state']\n",
    "del businesses['type']\n",
    "del businesses['attributes']\n",
    "del businesses['latitude']\n",
    "del businesses['longitude']"
   ]
  },
  {
   "cell_type": "code",
   "execution_count": 9,
   "metadata": {
    "collapsed": false
   },
   "outputs": [
    {
     "data": {
      "text/html": [
       "<div>\n",
       "<table border=\"1\" class=\"dataframe\">\n",
       "  <thead>\n",
       "    <tr style=\"text-align: right;\">\n",
       "      <th></th>\n",
       "      <th>business_id</th>\n",
       "      <th>name</th>\n",
       "      <th>open</th>\n",
       "      <th>stars</th>\n",
       "    </tr>\n",
       "  </thead>\n",
       "  <tbody>\n",
       "    <tr>\n",
       "      <th>0</th>\n",
       "      <td>5UmKMjUEUNdYWqANhGckJw</td>\n",
       "      <td>Mr Hoagie</td>\n",
       "      <td>True</td>\n",
       "      <td>3.5</td>\n",
       "    </tr>\n",
       "    <tr>\n",
       "      <th>1</th>\n",
       "      <td>UsFtqoBl7naz8AVUBZMjQQ</td>\n",
       "      <td>Clancy's Pub</td>\n",
       "      <td>True</td>\n",
       "      <td>3.0</td>\n",
       "    </tr>\n",
       "    <tr>\n",
       "      <th>2</th>\n",
       "      <td>cE27W9VPgO88Qxe4ol6y_g</td>\n",
       "      <td>Cool Springs Golf Center</td>\n",
       "      <td>False</td>\n",
       "      <td>2.5</td>\n",
       "    </tr>\n",
       "    <tr>\n",
       "      <th>3</th>\n",
       "      <td>mVHrayjG3uZ_RLHkLj-AMg</td>\n",
       "      <td>Emil's Lounge</td>\n",
       "      <td>True</td>\n",
       "      <td>4.5</td>\n",
       "    </tr>\n",
       "  </tbody>\n",
       "</table>\n",
       "</div>"
      ],
      "text/plain": [
       "              business_id                      name   open  stars\n",
       "0  5UmKMjUEUNdYWqANhGckJw                 Mr Hoagie   True    3.5\n",
       "1  UsFtqoBl7naz8AVUBZMjQQ              Clancy's Pub   True    3.0\n",
       "2  cE27W9VPgO88Qxe4ol6y_g  Cool Springs Golf Center  False    2.5\n",
       "3  mVHrayjG3uZ_RLHkLj-AMg             Emil's Lounge   True    4.5"
      ]
     },
     "execution_count": 9,
     "metadata": {},
     "output_type": "execute_result"
    }
   ],
   "source": [
    "businesses.head(4)"
   ]
  },
  {
   "cell_type": "code",
   "execution_count": 10,
   "metadata": {
    "collapsed": true
   },
   "outputs": [],
   "source": [
    "biz = businesses"
   ]
  },
  {
   "cell_type": "code",
   "execution_count": 11,
   "metadata": {
    "collapsed": false
   },
   "outputs": [
    {
     "data": {
      "text/html": [
       "<div>\n",
       "<table border=\"1\" class=\"dataframe\">\n",
       "  <thead>\n",
       "    <tr style=\"text-align: right;\">\n",
       "      <th></th>\n",
       "      <th>business_id</th>\n",
       "      <th>name</th>\n",
       "      <th>open</th>\n",
       "      <th>stars</th>\n",
       "    </tr>\n",
       "  </thead>\n",
       "  <tbody>\n",
       "    <tr>\n",
       "      <th>0</th>\n",
       "      <td>5UmKMjUEUNdYWqANhGckJw</td>\n",
       "      <td>Mr Hoagie</td>\n",
       "      <td>True</td>\n",
       "      <td>3.5</td>\n",
       "    </tr>\n",
       "    <tr>\n",
       "      <th>1</th>\n",
       "      <td>UsFtqoBl7naz8AVUBZMjQQ</td>\n",
       "      <td>Clancy's Pub</td>\n",
       "      <td>True</td>\n",
       "      <td>3.0</td>\n",
       "    </tr>\n",
       "    <tr>\n",
       "      <th>2</th>\n",
       "      <td>cE27W9VPgO88Qxe4ol6y_g</td>\n",
       "      <td>Cool Springs Golf Center</td>\n",
       "      <td>False</td>\n",
       "      <td>2.5</td>\n",
       "    </tr>\n",
       "  </tbody>\n",
       "</table>\n",
       "</div>"
      ],
      "text/plain": [
       "              business_id                      name   open  stars\n",
       "0  5UmKMjUEUNdYWqANhGckJw                 Mr Hoagie   True    3.5\n",
       "1  UsFtqoBl7naz8AVUBZMjQQ              Clancy's Pub   True    3.0\n",
       "2  cE27W9VPgO88Qxe4ol6y_g  Cool Springs Golf Center  False    2.5"
      ]
     },
     "execution_count": 11,
     "metadata": {},
     "output_type": "execute_result"
    }
   ],
   "source": [
    "biz.head(3)"
   ]
  },
  {
   "cell_type": "code",
   "execution_count": 12,
   "metadata": {
    "collapsed": false
   },
   "outputs": [
    {
     "data": {
      "text/plain": [
       "0        False\n",
       "1        False\n",
       "2        False\n",
       "3        False\n",
       "4        False\n",
       "5        False\n",
       "6        False\n",
       "7        False\n",
       "8        False\n",
       "9        False\n",
       "10       False\n",
       "11       False\n",
       "12       False\n",
       "13       False\n",
       "14       False\n",
       "15       False\n",
       "16       False\n",
       "17       False\n",
       "18       False\n",
       "19       False\n",
       "20       False\n",
       "21       False\n",
       "22       False\n",
       "23       False\n",
       "24       False\n",
       "25       False\n",
       "26       False\n",
       "27       False\n",
       "28       False\n",
       "29       False\n",
       "         ...  \n",
       "85871    False\n",
       "85872    False\n",
       "85873    False\n",
       "85874    False\n",
       "85875    False\n",
       "85876    False\n",
       "85877    False\n",
       "85878    False\n",
       "85879    False\n",
       "85880    False\n",
       "85881    False\n",
       "85882    False\n",
       "85883    False\n",
       "85884    False\n",
       "85885    False\n",
       "85886    False\n",
       "85887    False\n",
       "85888    False\n",
       "85889    False\n",
       "85890    False\n",
       "85891    False\n",
       "85892    False\n",
       "85893    False\n",
       "85894    False\n",
       "85895    False\n",
       "85896    False\n",
       "85897    False\n",
       "85898    False\n",
       "85899    False\n",
       "85900    False\n",
       "Name: name, dtype: bool"
      ]
     },
     "execution_count": 12,
     "metadata": {},
     "output_type": "execute_result"
    }
   ],
   "source": [
    "biz.name.isnull()"
   ]
  },
  {
   "cell_type": "code",
   "execution_count": 13,
   "metadata": {
    "collapsed": false
   },
   "outputs": [],
   "source": [
    "del biz['open']"
   ]
  },
  {
   "cell_type": "code",
   "execution_count": 14,
   "metadata": {
    "collapsed": false
   },
   "outputs": [
    {
     "data": {
      "text/html": [
       "<div>\n",
       "<table border=\"1\" class=\"dataframe\">\n",
       "  <thead>\n",
       "    <tr style=\"text-align: right;\">\n",
       "      <th></th>\n",
       "      <th>business_id</th>\n",
       "      <th>name</th>\n",
       "      <th>stars</th>\n",
       "    </tr>\n",
       "  </thead>\n",
       "  <tbody>\n",
       "    <tr>\n",
       "      <th>0</th>\n",
       "      <td>5UmKMjUEUNdYWqANhGckJw</td>\n",
       "      <td>Mr Hoagie</td>\n",
       "      <td>3.5</td>\n",
       "    </tr>\n",
       "    <tr>\n",
       "      <th>1</th>\n",
       "      <td>UsFtqoBl7naz8AVUBZMjQQ</td>\n",
       "      <td>Clancy's Pub</td>\n",
       "      <td>3.0</td>\n",
       "    </tr>\n",
       "    <tr>\n",
       "      <th>2</th>\n",
       "      <td>cE27W9VPgO88Qxe4ol6y_g</td>\n",
       "      <td>Cool Springs Golf Center</td>\n",
       "      <td>2.5</td>\n",
       "    </tr>\n",
       "    <tr>\n",
       "      <th>3</th>\n",
       "      <td>mVHrayjG3uZ_RLHkLj-AMg</td>\n",
       "      <td>Emil's Lounge</td>\n",
       "      <td>4.5</td>\n",
       "    </tr>\n",
       "  </tbody>\n",
       "</table>\n",
       "</div>"
      ],
      "text/plain": [
       "              business_id                      name  stars\n",
       "0  5UmKMjUEUNdYWqANhGckJw                 Mr Hoagie    3.5\n",
       "1  UsFtqoBl7naz8AVUBZMjQQ              Clancy's Pub    3.0\n",
       "2  cE27W9VPgO88Qxe4ol6y_g  Cool Springs Golf Center    2.5\n",
       "3  mVHrayjG3uZ_RLHkLj-AMg             Emil's Lounge    4.5"
      ]
     },
     "execution_count": 14,
     "metadata": {},
     "output_type": "execute_result"
    }
   ],
   "source": [
    "biz.head(4)"
   ]
  },
  {
   "cell_type": "code",
   "execution_count": 15,
   "metadata": {
    "collapsed": false
   },
   "outputs": [
    {
     "data": {
      "text/plain": [
       "0        5UmKMjUEUNdYWqANhGckJw\n",
       "1        UsFtqoBl7naz8AVUBZMjQQ\n",
       "2        cE27W9VPgO88Qxe4ol6y_g\n",
       "3        mVHrayjG3uZ_RLHkLj-AMg\n",
       "4        mYSpR_SLPgUVymYOvTQd_Q\n",
       "5        KayYbHCt-RkbGcPdGOThNg\n",
       "6        b12U9TFESStdy7CsTtcOeg\n",
       "7        Sktj1eHQFuVa-M4bgnEh8g\n",
       "8        3ZVKmuK2l7uXPE6lXY4Dbg\n",
       "9        QoDa50dc7g62xciFygXB9w\n",
       "10        _lU0-eSWJCRvNGk78Zh9Q\n",
       "11       _qopVQ6_Mz6W7-Pmbi56GQ\n",
       "12       wJr6kSA5dchdgOdwH6dZ2w\n",
       "13       yXuao0pFz1AxB21vJjDf5w\n",
       "14       LLJMI-_fSp6OYQuY4rwarw\n",
       "15       F04xyOUA2xnUoCiWpx9iJA\n",
       "16       Cdcus0NADzyY3XiJM2O5Sg\n",
       "17       fNGIbpazjTRdXgwRY_NIXA\n",
       "18       b9WZJp5L1RZr4F1nxclOoQ\n",
       "19       zaXDakTd3RXyOa7sMrUE1g\n",
       "20       zgy27FSnvwdINfk5cXBIyQ\n",
       "21       WETE_LykpcnrC1sFcQ5EGg\n",
       "22       6o3RK6rTcN3nw-j-r2nQmA\n",
       "23       woOVJ0Z2f6XNCDntHA3b_g\n",
       "24       rv7CY8G_XibTx82YhuqQRw\n",
       "25       e_U_FnpdKVgNb4mUN2cU_Q\n",
       "26       SQ0j7bgSTazkVQlF5AnqyQ\n",
       "27       LTXS986DAz-4jE_sV2Ui4w\n",
       "28       wqu7ILomIOPSduRwoWp4AQ\n",
       "29        u2NauOy8xDj7aFQET680A\n",
       "                  ...          \n",
       "85871    EB7_p4M5whur3KWesXE6gw\n",
       "85872    m1sb0KxX6wjr1gdA0bCTvg\n",
       "85873    iFX50dGCzWkVyunSZUzoiw\n",
       "85874    5PGbTsWR0UN9QuzN2XljyQ\n",
       "85875    xoMhBZHpY40EAyy6iQ_I-A\n",
       "85876    jyNgr_fYls8Nwm1kgcza0Q\n",
       "85877    9giI9_BtiLyANWUOPOpHLQ\n",
       "85878    5JDMpRduKnuPz-1OsF0I_A\n",
       "85879    C6_IoaDD3mddplTXdbKGEg\n",
       "85880    UByngND8rAr6Qu2il34Qrw\n",
       "85881    FcvkAc_OTDOOLLEln3jlxA\n",
       "85882    h1aZ3B_i83ccUcjgtRfMaA\n",
       "85883    ieZDYoAEq0xV4budBDOU6w\n",
       "85884    BiufIB-tejW9JqJdxUZJ5w\n",
       "85885    ECRjdXYLhGzQjCoZKeq6qg\n",
       "85886    mCiSmiZ7iNI08F6dGXP7tw\n",
       "85887    csnolzm2mzbsohha4jSi-g\n",
       "85888    0c5BWTHCjKyxh4461H14IQ\n",
       "85889    TFCPmrQj9PD1WvnZGYO85Q\n",
       "85890    hNX62vEzvdVsMUMmYYHoPQ\n",
       "85891    Tc_jU5vqV6208ElA6lNk-A\n",
       "85892    ezB4DWv1MjWwjbIjVNAb9A\n",
       "85893    56tU2oGqnPAn621Xl_9Fpw\n",
       "85894    BxqRovZ76pJudWJE1tNXbg\n",
       "85895    R4BA2eTM1jeIEq31EVlE4g\n",
       "85896    m7-3lyY0CJEhePfJKWtD3w\n",
       "85897    g0vvhkZWZKlwF8BUeSPaTA\n",
       "85898    46L_7y9QXffPpOaXNLX8hg\n",
       "85899    HuLzZUBkHEcHk6ETDJIVhQ\n",
       "85900    DH2Ujt_hwcMBIz8VvCb0Lg\n",
       "Name: business_id, dtype: object"
      ]
     },
     "execution_count": 15,
     "metadata": {},
     "output_type": "execute_result"
    }
   ],
   "source": [
    "biz.business_id.apply(lambda x: x.strip('\\n1'))"
   ]
  },
  {
   "cell_type": "code",
   "execution_count": 16,
   "metadata": {
    "collapsed": true
   },
   "outputs": [],
   "source": [
    "# biz.to_csv()"
   ]
  },
  {
   "cell_type": "code",
   "execution_count": 17,
   "metadata": {
    "collapsed": false
   },
   "outputs": [
    {
     "name": "stdout",
     "output_type": "stream",
     "text": [
      "<bound method DataFrame.astype of                   business_id                                            name  \\\n",
      "0      5UmKMjUEUNdYWqANhGckJw                                       Mr Hoagie   \n",
      "1      UsFtqoBl7naz8AVUBZMjQQ                                    Clancy's Pub   \n",
      "2      cE27W9VPgO88Qxe4ol6y_g                        Cool Springs Golf Center   \n",
      "3      mVHrayjG3uZ_RLHkLj-AMg                                   Emil's Lounge   \n",
      "4      mYSpR_SLPgUVymYOvTQd_Q                            Grand View Golf Club   \n",
      "5      KayYbHCt-RkbGcPdGOThNg                           Alexion's Bar & Grill   \n",
      "6      b12U9TFESStdy7CsTtcOeg                     Flynn's Tire & Auto Service   \n",
      "7      Sktj1eHQFuVa-M4bgnEh8g                Forsythe Miniature Golf & Snacks   \n",
      "8      3ZVKmuK2l7uXPE6lXY4Dbg                       Quaker State Construction   \n",
      "9      QoDa50dc7g62xciFygXB9w                         Greentree Animal Clinic   \n",
      "10     1_lU0-eSWJCRvNGk78Zh9Q                           Carnegie Free Library   \n",
      "11     _qopVQ6_Mz6W7-Pmbi56GQ                              Advance Auto Parts   \n",
      "12     wJr6kSA5dchdgOdwH6dZ2w                         Kings Family Restaurant   \n",
      "13     yXuao0pFz1AxB21vJjDf5w                                    Shop N' Save   \n",
      "14     LLJMI-_fSp6OYQuY4rwarw                          Knorr's Sunoco Service   \n",
      "15     F04xyOUA2xnUoCiWpx9iJA                      Rossi Tailoring & Cleaners   \n",
      "16     Cdcus0NADzyY3XiJM2O5Sg                                  Heidelberg B P   \n",
      "17     fNGIbpazjTRdXgwRY_NIXA                                  Rocky's Lounge   \n",
      "18     b9WZJp5L1RZr4F1nxclOoQ                                       Gab & Eat   \n",
      "19     zaXDakTd3RXyOa7sMrUE1g                    Barb's Country Junction Cafe   \n",
      "20     zgy27FSnvwdINfk5cXBIyQ   Extended Stay America - Pittsburgh - Carnegie   \n",
      "21     WETE_LykpcnrC1sFcQ5EGg                              Paddy's Pour House   \n",
      "22     6o3RK6rTcN3nw-j-r2nQmA                      Porto Fino Pizzaria & Gyro   \n",
      "23     woOVJ0Z2f6XNCDntHA3b_g                                Alteration World   \n",
      "24     rv7CY8G_XibTx82YhuqQRw                              Long John Silver's   \n",
      "25     e_U_FnpdKVgNb4mUN2cU_Q                              Weinberg Lisa, DMD   \n",
      "26     SQ0j7bgSTazkVQlF5AnqyQ                      Don Don Chinese Restaurant   \n",
      "27     LTXS986DAz-4jE_sV2Ui4w                       Chartiers Animal Hospital   \n",
      "28     wqu7ILomIOPSduRwoWp4AQ                                         Denny's   \n",
      "29     1u2NauOy8xDj7aFQET680A                                        Amerifit   \n",
      "...                       ...                                             ...   \n",
      "85871  EB7_p4M5whur3KWesXE6gw                              Kanoa Strength Gym   \n",
      "85872  m1sb0KxX6wjr1gdA0bCTvg                                   Marché Adonis   \n",
      "85873  iFX50dGCzWkVyunSZUzoiw                         CM2 Pizzeria & Bakeshop   \n",
      "85874  5PGbTsWR0UN9QuzN2XljyQ                The Grand Central Coffee Company   \n",
      "85875  xoMhBZHpY40EAyy6iQ_I-A                               Sexy3D Extensions   \n",
      "85876  jyNgr_fYls8Nwm1kgcza0Q    Yelp Elites Celebrate The Zombie Apocalypse!   \n",
      "85877  9giI9_BtiLyANWUOPOpHLQ                 Elites at Overture: Kinky Boots   \n",
      "85878  5JDMpRduKnuPz-1OsF0I_A                  YEE: \"Greed\" at The Mob Museum   \n",
      "85879  C6_IoaDD3mddplTXdbKGEg                 YEE: An Evening With Kid Cashew   \n",
      "85880  UByngND8rAr6Qu2il34Qrw                               The Chicken Scoop   \n",
      "85881  FcvkAc_OTDOOLLEln3jlxA                               Pure Sushi Colony   \n",
      "85882  h1aZ3B_i83ccUcjgtRfMaA                                   Skin Awakened   \n",
      "85883  ieZDYoAEq0xV4budBDOU6w  Brad Winston, CPA/Realtor-King of Condos, Inc.   \n",
      "85884  BiufIB-tejW9JqJdxUZJ5w                                        Pita Pit   \n",
      "85885  ECRjdXYLhGzQjCoZKeq6qg                            Tokyo Sushi House II   \n",
      "85886  mCiSmiZ7iNI08F6dGXP7tw                          Kneaders Bakery & Cafe   \n",
      "85887  csnolzm2mzbsohha4jSi-g                                Frys Marketplace   \n",
      "85888  0c5BWTHCjKyxh4461H14IQ                          Photobetty Photography   \n",
      "85889  TFCPmrQj9PD1WvnZGYO85Q                                        Chestnut   \n",
      "85890  hNX62vEzvdVsMUMmYYHoPQ                         Greathouse Sports Grill   \n",
      "85891  Tc_jU5vqV6208ElA6lNk-A                                       Bar Louie   \n",
      "85892  ezB4DWv1MjWwjbIjVNAb9A                                Lyric Apartments   \n",
      "85893  56tU2oGqnPAn621Xl_9Fpw                                   Dunn's Import   \n",
      "85894  BxqRovZ76pJudWJE1tNXbg                              Aries Unisex Salon   \n",
      "85895  R4BA2eTM1jeIEq31EVlE4g                                Citta Delle Luci   \n",
      "85896  m7-3lyY0CJEhePfJKWtD3w                                  Bowties Bridal   \n",
      "85897  g0vvhkZWZKlwF8BUeSPaTA                                      Senor Taco   \n",
      "85898  46L_7y9QXffPpOaXNLX8hg                            Cobblestone Auto Spa   \n",
      "85899  HuLzZUBkHEcHk6ETDJIVhQ                          Princess Street Suites   \n",
      "85900  DH2Ujt_hwcMBIz8VvCb0Lg                             Salsarita's Express   \n",
      "\n",
      "       stars  \n",
      "0        3.5  \n",
      "1        3.0  \n",
      "2        2.5  \n",
      "3        4.5  \n",
      "4        5.0  \n",
      "5        4.0  \n",
      "6        2.5  \n",
      "7        4.0  \n",
      "8        2.5  \n",
      "9        4.0  \n",
      "10       4.5  \n",
      "11       3.5  \n",
      "12       3.5  \n",
      "13       4.0  \n",
      "14       3.5  \n",
      "15       3.0  \n",
      "16       3.0  \n",
      "17       4.0  \n",
      "18       4.5  \n",
      "19       4.0  \n",
      "20       3.5  \n",
      "21       3.5  \n",
      "22       2.5  \n",
      "23       4.5  \n",
      "24       3.0  \n",
      "25       2.5  \n",
      "26       2.5  \n",
      "27       3.5  \n",
      "28       3.5  \n",
      "29       3.0  \n",
      "...      ...  \n",
      "85871    5.0  \n",
      "85872    2.5  \n",
      "85873    5.0  \n",
      "85874    4.0  \n",
      "85875    5.0  \n",
      "85876    4.5  \n",
      "85877    4.5  \n",
      "85878    5.0  \n",
      "85879    5.0  \n",
      "85880    4.0  \n",
      "85881    4.0  \n",
      "85882    5.0  \n",
      "85883    5.0  \n",
      "85884    5.0  \n",
      "85885    3.0  \n",
      "85886    3.5  \n",
      "85887    2.5  \n",
      "85888    5.0  \n",
      "85889    3.5  \n",
      "85890    2.0  \n",
      "85891    2.5  \n",
      "85892    2.0  \n",
      "85893    4.0  \n",
      "85894    5.0  \n",
      "85895    3.0  \n",
      "85896    4.0  \n",
      "85897    3.5  \n",
      "85898    3.0  \n",
      "85899    4.0  \n",
      "85900    2.5  \n",
      "\n",
      "[85901 rows x 3 columns]>\n"
     ]
    }
   ],
   "source": [
    "print biz.astype"
   ]
  },
  {
   "cell_type": "code",
   "execution_count": 18,
   "metadata": {
    "collapsed": false
   },
   "outputs": [],
   "source": [
    "# read the entire file into a python array\n",
    "with open('/Users/gabrielanthonysanchez/Desktop/Data Science/DSI-projects/Python Tutorials/yelp/yelp_dataset_challenge_academic_dataset/yelp_academic_dataset_tip.json', 'rb') as f:\n",
    "    data = f.readlines()\n",
    "\n",
    "# remove the trailing \"\\n\" from each line\n",
    "data = map(lambda x: x.rstrip(), data)\n",
    "\n",
    "# each element of 'data' is an individual JSON object.\n",
    "# i want to convert it into an *array* of JSON objects\n",
    "# which, in and of itself, is one large JSON object\n",
    "# basically... add square brackets to the beginning\n",
    "# and end, and have all the individual business JSON objects\n",
    "# separated by a comma\n",
    "data_json_str = \"[\" + ','.join(data) + \"]\"\n",
    "# print data_json_str\n",
    "# now, load it into pandas\n",
    "tips = pd.read_json(data_json_str)"
   ]
  },
  {
   "cell_type": "code",
   "execution_count": 19,
   "metadata": {
    "collapsed": false
   },
   "outputs": [
    {
     "data": {
      "text/html": [
       "<div>\n",
       "<table border=\"1\" class=\"dataframe\">\n",
       "  <thead>\n",
       "    <tr style=\"text-align: right;\">\n",
       "      <th></th>\n",
       "      <th>business_id</th>\n",
       "      <th>date</th>\n",
       "      <th>likes</th>\n",
       "      <th>text</th>\n",
       "      <th>type</th>\n",
       "      <th>user_id</th>\n",
       "    </tr>\n",
       "  </thead>\n",
       "  <tbody>\n",
       "    <tr>\n",
       "      <th>0</th>\n",
       "      <td>5UmKMjUEUNdYWqANhGckJw</td>\n",
       "      <td>2016-07-17</td>\n",
       "      <td>0</td>\n",
       "      <td>Pizza is garbage. Hoagies are excellent.</td>\n",
       "      <td>tip</td>\n",
       "      <td>ZxdojCZgZhw36xuSGaryRg</td>\n",
       "    </tr>\n",
       "    <tr>\n",
       "      <th>1</th>\n",
       "      <td>cE27W9VPgO88Qxe4ol6y_g</td>\n",
       "      <td>2013-04-18</td>\n",
       "      <td>0</td>\n",
       "      <td>Don't waste your time.</td>\n",
       "      <td>tip</td>\n",
       "      <td>-6rEfobYjMxpUWLNxszaxQ</td>\n",
       "    </tr>\n",
       "    <tr>\n",
       "      <th>2</th>\n",
       "      <td>mVHrayjG3uZ_RLHkLj-AMg</td>\n",
       "      <td>2016-02-22</td>\n",
       "      <td>0</td>\n",
       "      <td>Not easy to find. Be sure to put in directions...</td>\n",
       "      <td>tip</td>\n",
       "      <td>5OumCBQ_MyQsltSdbMyunA</td>\n",
       "    </tr>\n",
       "    <tr>\n",
       "      <th>3</th>\n",
       "      <td>mVHrayjG3uZ_RLHkLj-AMg</td>\n",
       "      <td>2013-01-06</td>\n",
       "      <td>1</td>\n",
       "      <td>Your GPS will not allow you to find this place...</td>\n",
       "      <td>tip</td>\n",
       "      <td>EZ0r9dKKtEGVx2CdnowPCw</td>\n",
       "    </tr>\n",
       "    <tr>\n",
       "      <th>4</th>\n",
       "      <td>KayYbHCt-RkbGcPdGOThNg</td>\n",
       "      <td>2013-12-03</td>\n",
       "      <td>0</td>\n",
       "      <td>Great drink specials!</td>\n",
       "      <td>tip</td>\n",
       "      <td>xb6zEQCw9I-Gl0g06e1KsQ</td>\n",
       "    </tr>\n",
       "  </tbody>\n",
       "</table>\n",
       "</div>"
      ],
      "text/plain": [
       "              business_id       date  likes  \\\n",
       "0  5UmKMjUEUNdYWqANhGckJw 2016-07-17      0   \n",
       "1  cE27W9VPgO88Qxe4ol6y_g 2013-04-18      0   \n",
       "2  mVHrayjG3uZ_RLHkLj-AMg 2016-02-22      0   \n",
       "3  mVHrayjG3uZ_RLHkLj-AMg 2013-01-06      1   \n",
       "4  KayYbHCt-RkbGcPdGOThNg 2013-12-03      0   \n",
       "\n",
       "                                                text type  \\\n",
       "0           Pizza is garbage. Hoagies are excellent.  tip   \n",
       "1                             Don't waste your time.  tip   \n",
       "2  Not easy to find. Be sure to put in directions...  tip   \n",
       "3  Your GPS will not allow you to find this place...  tip   \n",
       "4                              Great drink specials!  tip   \n",
       "\n",
       "                  user_id  \n",
       "0  ZxdojCZgZhw36xuSGaryRg  \n",
       "1  -6rEfobYjMxpUWLNxszaxQ  \n",
       "2  5OumCBQ_MyQsltSdbMyunA  \n",
       "3  EZ0r9dKKtEGVx2CdnowPCw  \n",
       "4  xb6zEQCw9I-Gl0g06e1KsQ  "
      ]
     },
     "execution_count": 19,
     "metadata": {},
     "output_type": "execute_result"
    }
   ],
   "source": [
    "tips.head()"
   ]
  },
  {
   "cell_type": "code",
   "execution_count": 20,
   "metadata": {
    "collapsed": true
   },
   "outputs": [],
   "source": [
    "del tips['date']\n",
    "del tips['likes']\n",
    "del tips['type']"
   ]
  },
  {
   "cell_type": "code",
   "execution_count": 21,
   "metadata": {
    "collapsed": false
   },
   "outputs": [
    {
     "data": {
      "text/html": [
       "<div>\n",
       "<table border=\"1\" class=\"dataframe\">\n",
       "  <thead>\n",
       "    <tr style=\"text-align: right;\">\n",
       "      <th></th>\n",
       "      <th>business_id</th>\n",
       "      <th>text</th>\n",
       "      <th>user_id</th>\n",
       "    </tr>\n",
       "  </thead>\n",
       "  <tbody>\n",
       "    <tr>\n",
       "      <th>0</th>\n",
       "      <td>5UmKMjUEUNdYWqANhGckJw</td>\n",
       "      <td>Pizza is garbage. Hoagies are excellent.</td>\n",
       "      <td>ZxdojCZgZhw36xuSGaryRg</td>\n",
       "    </tr>\n",
       "    <tr>\n",
       "      <th>1</th>\n",
       "      <td>cE27W9VPgO88Qxe4ol6y_g</td>\n",
       "      <td>Don't waste your time.</td>\n",
       "      <td>-6rEfobYjMxpUWLNxszaxQ</td>\n",
       "    </tr>\n",
       "    <tr>\n",
       "      <th>2</th>\n",
       "      <td>mVHrayjG3uZ_RLHkLj-AMg</td>\n",
       "      <td>Not easy to find. Be sure to put in directions...</td>\n",
       "      <td>5OumCBQ_MyQsltSdbMyunA</td>\n",
       "    </tr>\n",
       "  </tbody>\n",
       "</table>\n",
       "</div>"
      ],
      "text/plain": [
       "              business_id                                               text  \\\n",
       "0  5UmKMjUEUNdYWqANhGckJw           Pizza is garbage. Hoagies are excellent.   \n",
       "1  cE27W9VPgO88Qxe4ol6y_g                             Don't waste your time.   \n",
       "2  mVHrayjG3uZ_RLHkLj-AMg  Not easy to find. Be sure to put in directions...   \n",
       "\n",
       "                  user_id  \n",
       "0  ZxdojCZgZhw36xuSGaryRg  \n",
       "1  -6rEfobYjMxpUWLNxszaxQ  \n",
       "2  5OumCBQ_MyQsltSdbMyunA  "
      ]
     },
     "execution_count": 21,
     "metadata": {},
     "output_type": "execute_result"
    }
   ],
   "source": [
    "tips.head(3)"
   ]
  },
  {
   "cell_type": "code",
   "execution_count": 22,
   "metadata": {
    "collapsed": false
   },
   "outputs": [
    {
     "data": {
      "text/html": [
       "<div>\n",
       "<table border=\"1\" class=\"dataframe\">\n",
       "  <thead>\n",
       "    <tr style=\"text-align: right;\">\n",
       "      <th></th>\n",
       "      <th>business_id</th>\n",
       "      <th>name</th>\n",
       "      <th>stars</th>\n",
       "    </tr>\n",
       "  </thead>\n",
       "  <tbody>\n",
       "    <tr>\n",
       "      <th>0</th>\n",
       "      <td>5UmKMjUEUNdYWqANhGckJw</td>\n",
       "      <td>Mr Hoagie</td>\n",
       "      <td>3.5</td>\n",
       "    </tr>\n",
       "    <tr>\n",
       "      <th>1</th>\n",
       "      <td>UsFtqoBl7naz8AVUBZMjQQ</td>\n",
       "      <td>Clancy's Pub</td>\n",
       "      <td>3.0</td>\n",
       "    </tr>\n",
       "    <tr>\n",
       "      <th>2</th>\n",
       "      <td>cE27W9VPgO88Qxe4ol6y_g</td>\n",
       "      <td>Cool Springs Golf Center</td>\n",
       "      <td>2.5</td>\n",
       "    </tr>\n",
       "  </tbody>\n",
       "</table>\n",
       "</div>"
      ],
      "text/plain": [
       "              business_id                      name  stars\n",
       "0  5UmKMjUEUNdYWqANhGckJw                 Mr Hoagie    3.5\n",
       "1  UsFtqoBl7naz8AVUBZMjQQ              Clancy's Pub    3.0\n",
       "2  cE27W9VPgO88Qxe4ol6y_g  Cool Springs Golf Center    2.5"
      ]
     },
     "execution_count": 22,
     "metadata": {},
     "output_type": "execute_result"
    }
   ],
   "source": [
    "biz.head(3)"
   ]
  },
  {
   "cell_type": "code",
   "execution_count": 23,
   "metadata": {
    "collapsed": true
   },
   "outputs": [],
   "source": [
    "biz['name'] = biz['name'].apply(lambda x: x.strip('\\n'))"
   ]
  },
  {
   "cell_type": "code",
   "execution_count": 24,
   "metadata": {
    "collapsed": true
   },
   "outputs": [],
   "source": [
    "tips['text'] = tips['text'].apply(lambda x: x.strip('\\n'))"
   ]
  },
  {
   "cell_type": "code",
   "execution_count": 25,
   "metadata": {
    "collapsed": false
   },
   "outputs": [],
   "source": [
    "yelp = biz.join(tips.set_index('business_id'), on = 'business_id', how = 'left')"
   ]
  },
  {
   "cell_type": "code",
   "execution_count": 26,
   "metadata": {
    "collapsed": false
   },
   "outputs": [
    {
     "data": {
      "text/html": [
       "<div>\n",
       "<table border=\"1\" class=\"dataframe\">\n",
       "  <thead>\n",
       "    <tr style=\"text-align: right;\">\n",
       "      <th></th>\n",
       "      <th>business_id</th>\n",
       "      <th>name</th>\n",
       "      <th>stars</th>\n",
       "      <th>text</th>\n",
       "      <th>user_id</th>\n",
       "    </tr>\n",
       "  </thead>\n",
       "  <tbody>\n",
       "    <tr>\n",
       "      <th>0</th>\n",
       "      <td>5UmKMjUEUNdYWqANhGckJw</td>\n",
       "      <td>Mr Hoagie</td>\n",
       "      <td>3.5</td>\n",
       "      <td>Pizza is garbage. Hoagies are excellent.</td>\n",
       "      <td>ZxdojCZgZhw36xuSGaryRg</td>\n",
       "    </tr>\n",
       "    <tr>\n",
       "      <th>1</th>\n",
       "      <td>UsFtqoBl7naz8AVUBZMjQQ</td>\n",
       "      <td>Clancy's Pub</td>\n",
       "      <td>3.0</td>\n",
       "      <td>NaN</td>\n",
       "      <td>NaN</td>\n",
       "    </tr>\n",
       "    <tr>\n",
       "      <th>2</th>\n",
       "      <td>cE27W9VPgO88Qxe4ol6y_g</td>\n",
       "      <td>Cool Springs Golf Center</td>\n",
       "      <td>2.5</td>\n",
       "      <td>Don't waste your time.</td>\n",
       "      <td>-6rEfobYjMxpUWLNxszaxQ</td>\n",
       "    </tr>\n",
       "  </tbody>\n",
       "</table>\n",
       "</div>"
      ],
      "text/plain": [
       "              business_id                      name  stars  \\\n",
       "0  5UmKMjUEUNdYWqANhGckJw                 Mr Hoagie    3.5   \n",
       "1  UsFtqoBl7naz8AVUBZMjQQ              Clancy's Pub    3.0   \n",
       "2  cE27W9VPgO88Qxe4ol6y_g  Cool Springs Golf Center    2.5   \n",
       "\n",
       "                                       text                 user_id  \n",
       "0  Pizza is garbage. Hoagies are excellent.  ZxdojCZgZhw36xuSGaryRg  \n",
       "1                                       NaN                     NaN  \n",
       "2                    Don't waste your time.  -6rEfobYjMxpUWLNxszaxQ  "
      ]
     },
     "execution_count": 26,
     "metadata": {},
     "output_type": "execute_result"
    }
   ],
   "source": [
    "yelp.head(3)"
   ]
  },
  {
   "cell_type": "code",
   "execution_count": 27,
   "metadata": {
    "collapsed": false
   },
   "outputs": [
    {
     "data": {
      "text/plain": [
       "False    648902\n",
       "True      28406\n",
       "Name: text, dtype: int64"
      ]
     },
     "execution_count": 27,
     "metadata": {},
     "output_type": "execute_result"
    }
   ],
   "source": [
    "yelp.text.isnull().value_counts()"
   ]
  },
  {
   "cell_type": "code",
   "execution_count": 28,
   "metadata": {
    "collapsed": false
   },
   "outputs": [
    {
     "data": {
      "text/plain": [
       "False    648902\n",
       "True      28406\n",
       "Name: user_id, dtype: int64"
      ]
     },
     "execution_count": 28,
     "metadata": {},
     "output_type": "execute_result"
    }
   ],
   "source": [
    "yelp.user_id.isnull().value_counts()"
   ]
  },
  {
   "cell_type": "code",
   "execution_count": null,
   "metadata": {
    "collapsed": true
   },
   "outputs": [],
   "source": []
  },
  {
   "cell_type": "code",
   "execution_count": 29,
   "metadata": {
    "collapsed": false
   },
   "outputs": [],
   "source": [
    "# # read the entire file into a python array\n",
    "# with open('/Users/gabrielanthonysanchez/Desktop/Data Science/DSI-projects/Python Tutorials/yelp/yelp_dataset_challenge_academic_dataset/yelp_academic_dataset_user.json', 'rb') as f:\n",
    "#     data = f.readlines()\n",
    "\n",
    "# # remove the trailing \"\\n\" from each line\n",
    "# data = map(lambda x: x.rstrip(), data)\n",
    "\n",
    "# # each element of 'data' is an individual JSON object.\n",
    "# # i want to convert it into an *array* of JSON objects\n",
    "# # which, in and of itself, is one large JSON object\n",
    "# # basically... add square brackets to the beginning\n",
    "# # and end, and have all the individual business JSON objects\n",
    "# # separated by a comma\n",
    "# data_json_str = \"[\" + ','.join(data) + \"]\"\n",
    "# # print data_json_str\n",
    "# # now, load it into pandas\n",
    "# users = pd.read_json(data_json_str)"
   ]
  },
  {
   "cell_type": "code",
   "execution_count": 30,
   "metadata": {
    "collapsed": false,
    "scrolled": true
   },
   "outputs": [],
   "source": [
    "# users.head(2)"
   ]
  },
  {
   "cell_type": "code",
   "execution_count": 31,
   "metadata": {
    "collapsed": true
   },
   "outputs": [],
   "source": [
    "# del users['elite']\n",
    "# del users['fans']\n",
    "# del users['compliments']\n",
    "# del users['friends']\n",
    "# del users['review_count']\n",
    "# del users['type']\n",
    "# del users['yelping_since']\n",
    "# del users['']"
   ]
  },
  {
   "cell_type": "code",
   "execution_count": null,
   "metadata": {
    "collapsed": true
   },
   "outputs": [],
   "source": []
  },
  {
   "cell_type": "code",
   "execution_count": null,
   "metadata": {
    "collapsed": true
   },
   "outputs": [],
   "source": []
  },
  {
   "cell_type": "code",
   "execution_count": 32,
   "metadata": {
    "collapsed": false
   },
   "outputs": [],
   "source": [
    "# # read the entire file into a python array\n",
    "# with open('/Users/gabrielanthonysanchez/Desktop/Data Science/DSI-projects/Python Tutorials/yelp/yelp_dataset_challenge_academic_dataset/yelp_academic_dataset_checkin.json', 'rb') as f:\n",
    "#     data = f.readlines()\n",
    "\n",
    "# # remove the trailing \"\\n\" from each line\n",
    "# data = map(lambda x: x.rstrip(), data)\n",
    "\n",
    "# # each element of 'data' is an individual JSON object.\n",
    "# # i want to convert it into an *array* of JSON objects\n",
    "# # which, in and of itself, is one large JSON object\n",
    "# # basically... add square brackets to the beginning\n",
    "# # and end, and have all the individual business JSON objects\n",
    "# # separated by a comma\n",
    "# data_json_str = \"[\" + ','.join(data) + \"]\"\n",
    "# # print data_json_str\n",
    "# # now, load it into pandas\n",
    "# checkin = pd.read_json(data_json_str)"
   ]
  },
  {
   "cell_type": "code",
   "execution_count": 33,
   "metadata": {
    "collapsed": false
   },
   "outputs": [],
   "source": [
    "# checkin.head(2)"
   ]
  },
  {
   "cell_type": "code",
   "execution_count": 34,
   "metadata": {
    "collapsed": false
   },
   "outputs": [],
   "source": [
    "# # read the entire file into a python array\n",
    "# with open('/Users/gabrielanthonysanchez/Desktop/Data Science/DSI-projects/Python Tutorials/yelp/yelp_dataset_challenge_academic_dataset/yelp_academic_dataset_review.json', 'rb') as f:\n",
    "#     data = f.readlines()\n",
    "\n",
    "# # remove the trailing \"\\n\" from each line\n",
    "# data = map(lambda x: x.rstrip(), data)\n",
    "\n",
    "# # each element of 'data' is an individual JSON object.\n",
    "# # i want to convert it into an *array* of JSON objects\n",
    "# # which, in and of itself, is one large JSON object\n",
    "# # basically... add square brackets to the beginning\n",
    "# # and end, and have all the individual business JSON objects\n",
    "# # separated by a comma\n",
    "# data_json_str = \"[\" + ','.join(data) + \"]\"\n",
    "# # print data_json_str\n",
    "# # now, load it into pandas\n",
    "# reviews = pd.read_json(data_json_str)"
   ]
  },
  {
   "cell_type": "code",
   "execution_count": 35,
   "metadata": {
    "collapsed": true
   },
   "outputs": [],
   "source": [
    "# reviews.head(2)"
   ]
  },
  {
   "cell_type": "code",
   "execution_count": 36,
   "metadata": {
    "collapsed": false
   },
   "outputs": [
    {
     "data": {
      "text/html": [
       "<div>\n",
       "<table border=\"1\" class=\"dataframe\">\n",
       "  <thead>\n",
       "    <tr style=\"text-align: right;\">\n",
       "      <th></th>\n",
       "      <th>business_id</th>\n",
       "      <th>name</th>\n",
       "      <th>stars</th>\n",
       "      <th>text</th>\n",
       "      <th>user_id</th>\n",
       "    </tr>\n",
       "  </thead>\n",
       "  <tbody>\n",
       "    <tr>\n",
       "      <th>0</th>\n",
       "      <td>5UmKMjUEUNdYWqANhGckJw</td>\n",
       "      <td>Mr Hoagie</td>\n",
       "      <td>3.5</td>\n",
       "      <td>Pizza is garbage. Hoagies are excellent.</td>\n",
       "      <td>ZxdojCZgZhw36xuSGaryRg</td>\n",
       "    </tr>\n",
       "    <tr>\n",
       "      <th>1</th>\n",
       "      <td>UsFtqoBl7naz8AVUBZMjQQ</td>\n",
       "      <td>Clancy's Pub</td>\n",
       "      <td>3.0</td>\n",
       "      <td>NaN</td>\n",
       "      <td>NaN</td>\n",
       "    </tr>\n",
       "  </tbody>\n",
       "</table>\n",
       "</div>"
      ],
      "text/plain": [
       "              business_id          name  stars  \\\n",
       "0  5UmKMjUEUNdYWqANhGckJw     Mr Hoagie    3.5   \n",
       "1  UsFtqoBl7naz8AVUBZMjQQ  Clancy's Pub    3.0   \n",
       "\n",
       "                                       text                 user_id  \n",
       "0  Pizza is garbage. Hoagies are excellent.  ZxdojCZgZhw36xuSGaryRg  \n",
       "1                                       NaN                     NaN  "
      ]
     },
     "execution_count": 36,
     "metadata": {},
     "output_type": "execute_result"
    }
   ],
   "source": [
    "yelp.head(2)"
   ]
  },
  {
   "cell_type": "code",
   "execution_count": 3,
   "metadata": {
    "collapsed": false
   },
   "outputs": [
    {
     "ename": "NameError",
     "evalue": "name 'yelp' is not defined",
     "output_type": "error",
     "traceback": [
      "\u001b[0;31m---------------------------------------------------------------------------\u001b[0m",
      "\u001b[0;31mNameError\u001b[0m                                 Traceback (most recent call last)",
      "\u001b[0;32m<ipython-input-3-4f3541a76b2b>\u001b[0m in \u001b[0;36m<module>\u001b[0;34m()\u001b[0m\n\u001b[0;32m----> 1\u001b[0;31m \u001b[0myelp\u001b[0m\u001b[0;34m.\u001b[0m\u001b[0mto_csv\u001b[0m\u001b[0;34m(\u001b[0m\u001b[0;34m'yelp.csv'\u001b[0m\u001b[0;34m,\u001b[0m \u001b[0mencoding\u001b[0m \u001b[0;34m=\u001b[0m \u001b[0;34m'utf_8'\u001b[0m\u001b[0;34m)\u001b[0m\u001b[0;34m\u001b[0m\u001b[0m\n\u001b[0m",
      "\u001b[0;31mNameError\u001b[0m: name 'yelp' is not defined"
     ]
    }
   ],
   "source": [
    "yelp.to_csv('yelp.csv', encoding = 'utf_8')"
   ]
  },
  {
   "cell_type": "code",
   "execution_count": 3,
   "metadata": {
    "collapsed": false
   },
   "outputs": [
    {
     "data": {
      "text/html": [
       "<div>\n",
       "<table border=\"1\" class=\"dataframe\">\n",
       "  <thead>\n",
       "    <tr style=\"text-align: right;\">\n",
       "      <th></th>\n",
       "      <th>Unnamed: 0</th>\n",
       "      <th>business_id</th>\n",
       "      <th>name</th>\n",
       "      <th>stars</th>\n",
       "      <th>text</th>\n",
       "      <th>user_id</th>\n",
       "    </tr>\n",
       "  </thead>\n",
       "  <tbody>\n",
       "    <tr>\n",
       "      <th>0</th>\n",
       "      <td>0</td>\n",
       "      <td>5UmKMjUEUNdYWqANhGckJw</td>\n",
       "      <td>Mr Hoagie</td>\n",
       "      <td>3.5</td>\n",
       "      <td>Pizza is garbage. Hoagies are excellent.</td>\n",
       "      <td>ZxdojCZgZhw36xuSGaryRg</td>\n",
       "    </tr>\n",
       "    <tr>\n",
       "      <th>1</th>\n",
       "      <td>1</td>\n",
       "      <td>UsFtqoBl7naz8AVUBZMjQQ</td>\n",
       "      <td>Clancy's Pub</td>\n",
       "      <td>3.0</td>\n",
       "      <td>NaN</td>\n",
       "      <td>NaN</td>\n",
       "    </tr>\n",
       "    <tr>\n",
       "      <th>2</th>\n",
       "      <td>2</td>\n",
       "      <td>cE27W9VPgO88Qxe4ol6y_g</td>\n",
       "      <td>Cool Springs Golf Center</td>\n",
       "      <td>2.5</td>\n",
       "      <td>Don't waste your time.</td>\n",
       "      <td>-6rEfobYjMxpUWLNxszaxQ</td>\n",
       "    </tr>\n",
       "  </tbody>\n",
       "</table>\n",
       "</div>"
      ],
      "text/plain": [
       "   Unnamed: 0             business_id                      name  stars  \\\n",
       "0           0  5UmKMjUEUNdYWqANhGckJw                 Mr Hoagie    3.5   \n",
       "1           1  UsFtqoBl7naz8AVUBZMjQQ              Clancy's Pub    3.0   \n",
       "2           2  cE27W9VPgO88Qxe4ol6y_g  Cool Springs Golf Center    2.5   \n",
       "\n",
       "                                       text                 user_id  \n",
       "0  Pizza is garbage. Hoagies are excellent.  ZxdojCZgZhw36xuSGaryRg  \n",
       "1                                       NaN                     NaN  \n",
       "2                    Don't waste your time.  -6rEfobYjMxpUWLNxszaxQ  "
      ]
     },
     "execution_count": 3,
     "metadata": {},
     "output_type": "execute_result"
    }
   ],
   "source": [
    "yelp = pd.read_csv('/Users/gabrielanthonysanchez/Desktop/Data Science/DSI-projects/Python Tutorials/yelp.csv')\n",
    "yelp.head(3)"
   ]
  },
  {
   "cell_type": "code",
   "execution_count": 8,
   "metadata": {
    "collapsed": false
   },
   "outputs": [
    {
     "data": {
      "text/plain": [
       "Unnamed: 0       int64\n",
       "business_id     object\n",
       "name            object\n",
       "stars          float64\n",
       "text            object\n",
       "user_id         object\n",
       "dtype: object"
      ]
     },
     "execution_count": 8,
     "metadata": {},
     "output_type": "execute_result"
    }
   ],
   "source": [
    "yelp.dtypes"
   ]
  },
  {
   "cell_type": "code",
   "execution_count": 9,
   "metadata": {
    "collapsed": false
   },
   "outputs": [
    {
     "name": "stdout",
     "output_type": "stream",
     "text": [
      "        Unnamed: 0             business_id                              name  \\\n",
      "0                0  5UmKMjUEUNdYWqANhGckJw                         Mr Hoagie   \n",
      "1                1  UsFtqoBl7naz8AVUBZMjQQ                      Clancy's Pub   \n",
      "2                2  cE27W9VPgO88Qxe4ol6y_g          Cool Springs Golf Center   \n",
      "3                3  mVHrayjG3uZ_RLHkLj-AMg                     Emil's Lounge   \n",
      "4                3  mVHrayjG3uZ_RLHkLj-AMg                     Emil's Lounge   \n",
      "5                4  mYSpR_SLPgUVymYOvTQd_Q              Grand View Golf Club   \n",
      "6                5  KayYbHCt-RkbGcPdGOThNg             Alexion's Bar & Grill   \n",
      "7                5  KayYbHCt-RkbGcPdGOThNg             Alexion's Bar & Grill   \n",
      "8                5  KayYbHCt-RkbGcPdGOThNg             Alexion's Bar & Grill   \n",
      "9                5  KayYbHCt-RkbGcPdGOThNg             Alexion's Bar & Grill   \n",
      "10               6  b12U9TFESStdy7CsTtcOeg       Flynn's Tire & Auto Service   \n",
      "11               7  Sktj1eHQFuVa-M4bgnEh8g  Forsythe Miniature Golf & Snacks   \n",
      "12               8  3ZVKmuK2l7uXPE6lXY4Dbg         Quaker State Construction   \n",
      "13               9  QoDa50dc7g62xciFygXB9w           Greentree Animal Clinic   \n",
      "14              10  1_lU0-eSWJCRvNGk78Zh9Q             Carnegie Free Library   \n",
      "15              10  1_lU0-eSWJCRvNGk78Zh9Q             Carnegie Free Library   \n",
      "16              11  _qopVQ6_Mz6W7-Pmbi56GQ                Advance Auto Parts   \n",
      "17              11  _qopVQ6_Mz6W7-Pmbi56GQ                Advance Auto Parts   \n",
      "18              12  wJr6kSA5dchdgOdwH6dZ2w           Kings Family Restaurant   \n",
      "19              12  wJr6kSA5dchdgOdwH6dZ2w           Kings Family Restaurant   \n",
      "20              13  yXuao0pFz1AxB21vJjDf5w                      Shop N' Save   \n",
      "21              14  LLJMI-_fSp6OYQuY4rwarw            Knorr's Sunoco Service   \n",
      "22              15  F04xyOUA2xnUoCiWpx9iJA        Rossi Tailoring & Cleaners   \n",
      "23              16  Cdcus0NADzyY3XiJM2O5Sg                    Heidelberg B P   \n",
      "24              16  Cdcus0NADzyY3XiJM2O5Sg                    Heidelberg B P   \n",
      "25              17  fNGIbpazjTRdXgwRY_NIXA                    Rocky's Lounge   \n",
      "26              17  fNGIbpazjTRdXgwRY_NIXA                    Rocky's Lounge   \n",
      "27              17  fNGIbpazjTRdXgwRY_NIXA                    Rocky's Lounge   \n",
      "28              18  b9WZJp5L1RZr4F1nxclOoQ                         Gab & Eat   \n",
      "29              18  b9WZJp5L1RZr4F1nxclOoQ                         Gab & Eat   \n",
      "...            ...                     ...                               ...   \n",
      "677278       85897  g0vvhkZWZKlwF8BUeSPaTA                        Senor Taco   \n",
      "677279       85897  g0vvhkZWZKlwF8BUeSPaTA                        Senor Taco   \n",
      "677280       85897  g0vvhkZWZKlwF8BUeSPaTA                        Senor Taco   \n",
      "677281       85897  g0vvhkZWZKlwF8BUeSPaTA                        Senor Taco   \n",
      "677282       85897  g0vvhkZWZKlwF8BUeSPaTA                        Senor Taco   \n",
      "677283       85897  g0vvhkZWZKlwF8BUeSPaTA                        Senor Taco   \n",
      "677284       85897  g0vvhkZWZKlwF8BUeSPaTA                        Senor Taco   \n",
      "677285       85897  g0vvhkZWZKlwF8BUeSPaTA                        Senor Taco   \n",
      "677286       85897  g0vvhkZWZKlwF8BUeSPaTA                        Senor Taco   \n",
      "677287       85897  g0vvhkZWZKlwF8BUeSPaTA                        Senor Taco   \n",
      "677288       85897  g0vvhkZWZKlwF8BUeSPaTA                        Senor Taco   \n",
      "677289       85897  g0vvhkZWZKlwF8BUeSPaTA                        Senor Taco   \n",
      "677290       85897  g0vvhkZWZKlwF8BUeSPaTA                        Senor Taco   \n",
      "677291       85897  g0vvhkZWZKlwF8BUeSPaTA                        Senor Taco   \n",
      "677292       85897  g0vvhkZWZKlwF8BUeSPaTA                        Senor Taco   \n",
      "677293       85897  g0vvhkZWZKlwF8BUeSPaTA                        Senor Taco   \n",
      "677294       85897  g0vvhkZWZKlwF8BUeSPaTA                        Senor Taco   \n",
      "677295       85897  g0vvhkZWZKlwF8BUeSPaTA                        Senor Taco   \n",
      "677296       85897  g0vvhkZWZKlwF8BUeSPaTA                        Senor Taco   \n",
      "677297       85897  g0vvhkZWZKlwF8BUeSPaTA                        Senor Taco   \n",
      "677298       85897  g0vvhkZWZKlwF8BUeSPaTA                        Senor Taco   \n",
      "677299       85897  g0vvhkZWZKlwF8BUeSPaTA                        Senor Taco   \n",
      "677300       85897  g0vvhkZWZKlwF8BUeSPaTA                        Senor Taco   \n",
      "677301       85897  g0vvhkZWZKlwF8BUeSPaTA                        Senor Taco   \n",
      "677302       85897  g0vvhkZWZKlwF8BUeSPaTA                        Senor Taco   \n",
      "677303       85897  g0vvhkZWZKlwF8BUeSPaTA                        Senor Taco   \n",
      "677304       85897  g0vvhkZWZKlwF8BUeSPaTA                        Senor Taco   \n",
      "677305       85898  46L_7y9QXffPpOaXNLX8hg              Cobblestone Auto Spa   \n",
      "677306       85899  HuLzZUBkHEcHk6ETDJIVhQ            Princess Street Suites   \n",
      "677307       85900  DH2Ujt_hwcMBIz8VvCb0Lg               Salsarita's Express   \n",
      "\n",
      "        stars                                               text  \\\n",
      "0         3.5           Pizza is garbage. Hoagies are excellent.   \n",
      "1         3.0                                                NaN   \n",
      "2         2.5                             Don't waste your time.   \n",
      "3         4.5  Not easy to find. Be sure to put in directions...   \n",
      "4         4.5  Your GPS will not allow you to find this place...   \n",
      "5         5.0                                                NaN   \n",
      "6         4.0                              Great drink specials!   \n",
      "7         4.0  Friendly staff, good food, great beer selectio...   \n",
      "8         4.0  Fantastic! Great food, excellent beer selectio...   \n",
      "9         4.0  I love this place! Great prices, great food, g...   \n",
      "10        2.5                                                NaN   \n",
      "11        4.0                                                NaN   \n",
      "12        2.5                                                NaN   \n",
      "13        4.0                                                NaN   \n",
      "14        4.5                             Beautiful restoration.   \n",
      "15        4.5                    Home to Stage 62 theatre group.   \n",
      "16        3.5              A God send if you're not a gear head!   \n",
      "17        3.5     Great people ... great service ... always busy   \n",
      "18        3.5        Family atmosphere and super friendly staff!   \n",
      "19        3.5  Sarah rocks! Best waitress here! Be sure to ge...   \n",
      "20        4.0                                                NaN   \n",
      "21        3.5                                                NaN   \n",
      "22        3.0                                                NaN   \n",
      "23        3.0                                      Unleaded 3.42   \n",
      "24        3.0                                      Gas ...  3.45   \n",
      "25        4.0  Great local bar. Theresa does a great job. San...   \n",
      "26        4.0  Friendly staff. Good service. Awesome fish san...   \n",
      "27        4.0  Decent selection of more than just bar food. \\...   \n",
      "28        4.5                                     I'm in heaven.   \n",
      "29        4.5  If you haven't come for lunch you are missing ...   \n",
      "...       ...                                                ...   \n",
      "677278    3.5                    Open til 2 am Friday & Saturday   \n",
      "677279    3.5                       Get the carne asada fries...   \n",
      "677280    3.5  I like that their guacamole doesn't have tomat...   \n",
      "677281    3.5  Good breakfast burritos , shrimp burrito and s...   \n",
      "677282    3.5  The drive thru takes a little bit so it might ...   \n",
      "677283    3.5                            Carne Asada Burrito A++   \n",
      "677284    3.5  I got a cheese enchilada here and the cheese i...   \n",
      "677285    3.5  I love this fast food Mexican restaurant. You ...   \n",
      "677286    3.5                        Señor combo.  Enough said!!   \n",
      "677287    3.5                                          Breakfast   \n",
      "677288    3.5  Drive thru is taking forever  should if went i...   \n",
      "677289    3.5                             Carnitas burrito rocks   \n",
      "677290    3.5                           Pretty good tacos folks!   \n",
      "677291    3.5  Breakfast im starving... kinda unhappy she mes...   \n",
      "677292    3.5  Drive thru sucks but its worth the wait! Love ...   \n",
      "677293    3.5  Wth is a carne asada red chile I am about to t...   \n",
      "677294    3.5  This food is more authentic than your typical ...   \n",
      "677295    3.5  I had the chipotle chicken burrito wet.. One w...   \n",
      "677296    3.5                      Mm mm mmmmm I love senor taco   \n",
      "677297    3.5                                         Overpriced   \n",
      "677298    3.5  Quick Mexican food more authentic than Taco Be...   \n",
      "677299    3.5                                Totes for Realsies!   \n",
      "677300    3.5                            They added more seating   \n",
      "677301    3.5  Taco Tuesday $1 Carne asada mini tacos on corn...   \n",
      "677302    3.5  Food is good, not low fat though! Service is g...   \n",
      "677303    3.5  Very good burritos! My kids loved it!Best sals...   \n",
      "677304    3.5  Sixth night of Mexican in Phoenix and this pla...   \n",
      "677305    3.0  $20 a month for unlimited washes! Thank Carlos...   \n",
      "677306    4.0                                                NaN   \n",
      "677307    2.5                                                NaN   \n",
      "\n",
      "                       user_id  \n",
      "0       ZxdojCZgZhw36xuSGaryRg  \n",
      "1                          NaN  \n",
      "2       -6rEfobYjMxpUWLNxszaxQ  \n",
      "3       5OumCBQ_MyQsltSdbMyunA  \n",
      "4       EZ0r9dKKtEGVx2CdnowPCw  \n",
      "5                          NaN  \n",
      "6       xb6zEQCw9I-Gl0g06e1KsQ  \n",
      "7       QawZN4PSW7ng_9SP7pjsVQ  \n",
      "8       8K8qHAH9AREKxIIZAwQ9Fg  \n",
      "9       U3VIAqv7eaCCorYsVCRCHA  \n",
      "10                         NaN  \n",
      "11                         NaN  \n",
      "12                         NaN  \n",
      "13                         NaN  \n",
      "14      MLQre1nvUtW-RqMTc4iC9A  \n",
      "15      bvu13GyOUwhEjPum2xjiqQ  \n",
      "16      bvu13GyOUwhEjPum2xjiqQ  \n",
      "17      _QFom7aSHKNCDsNXKd-3xQ  \n",
      "18      uq9BiSmTx6hpIo3piXMysQ  \n",
      "19      fvTivrsJoUMYXnOJw9wZfw  \n",
      "20                         NaN  \n",
      "21                         NaN  \n",
      "22                         NaN  \n",
      "23      bvu13GyOUwhEjPum2xjiqQ  \n",
      "24      bvu13GyOUwhEjPum2xjiqQ  \n",
      "25      _wbuJtXPZGT6U1Qg5hV4VQ  \n",
      "26      284ZoU1QyY1y-_j0YYJH3g  \n",
      "27      6GrH6gp09pqYykGv86D6Dg  \n",
      "28      gl46Pxc4OzLai8JVyxUIwA  \n",
      "29      6GrH6gp09pqYykGv86D6Dg  \n",
      "...                        ...  \n",
      "677278  PDH9kWE8I9VXT7b4CX9Wow  \n",
      "677279  I-dgpdiosnteXfBzn-Y71w  \n",
      "677280  2bPuKSMkC5bSWkPL56Kr2A  \n",
      "677281  26wW6FNWdmC23Vz-sjy9Dw  \n",
      "677282  2li317oUeXfPNjyPAvm6wg  \n",
      "677283  2li317oUeXfPNjyPAvm6wg  \n",
      "677284  2li317oUeXfPNjyPAvm6wg  \n",
      "677285  jzV4F-76GqoJKBtBrRFN0w  \n",
      "677286  uzHRZxiyxKNTkkAuCfycPw  \n",
      "677287  26wW6FNWdmC23Vz-sjy9Dw  \n",
      "677288  26wW6FNWdmC23Vz-sjy9Dw  \n",
      "677289  FMtO7NbZZldrVtC-l4Nnqg  \n",
      "677290  hJYje1DGD6XlANwBbwG-Jg  \n",
      "677291  26wW6FNWdmC23Vz-sjy9Dw  \n",
      "677292  FMtO7NbZZldrVtC-l4Nnqg  \n",
      "677293  26wW6FNWdmC23Vz-sjy9Dw  \n",
      "677294  B9_u34o_iG_vbIW2suFlQg  \n",
      "677295  3Xdial3M7dbZkygA0L-Zsg  \n",
      "677296  FMtO7NbZZldrVtC-l4Nnqg  \n",
      "677297  zgrCUe1zfgApuASqAz90vA  \n",
      "677298  k2q-ZwcXgH4Fszrj1EE51Q  \n",
      "677299  ofgq4WD0CYFn58zywqp0rQ  \n",
      "677300  26wW6FNWdmC23Vz-sjy9Dw  \n",
      "677301  j472C2lnLtcdyXz4qA0YrA  \n",
      "677302  pRs72XwZfm1DhNaPUFj_Nw  \n",
      "677303  _FE_Qf-pW8YOV1Q24Pvaeg  \n",
      "677304  f2yrVy2iVooO1_pMCr9XNg  \n",
      "677305  C5UZ88NJSguhi1DfZNUIAg  \n",
      "677306                     NaN  \n",
      "677307                     NaN  \n",
      "\n",
      "[677308 rows x 6 columns]\n"
     ]
    }
   ],
   "source": [
    "print yelp"
   ]
  },
  {
   "cell_type": "code",
   "execution_count": 4,
   "metadata": {
    "collapsed": true
   },
   "outputs": [],
   "source": [
    "del yelp['user_id']\n",
    "del yelp['business_id']"
   ]
  },
  {
   "cell_type": "code",
   "execution_count": 7,
   "metadata": {
    "collapsed": false
   },
   "outputs": [
    {
     "data": {
      "text/html": [
       "<div>\n",
       "<table border=\"1\" class=\"dataframe\">\n",
       "  <thead>\n",
       "    <tr style=\"text-align: right;\">\n",
       "      <th></th>\n",
       "      <th>Unnamed: 0</th>\n",
       "      <th>name</th>\n",
       "      <th>stars</th>\n",
       "      <th>text</th>\n",
       "    </tr>\n",
       "  </thead>\n",
       "  <tbody>\n",
       "    <tr>\n",
       "      <th>0</th>\n",
       "      <td>0</td>\n",
       "      <td>Mr Hoagie</td>\n",
       "      <td>3.5</td>\n",
       "      <td>Pizza is garbage. Hoagies are excellent.</td>\n",
       "    </tr>\n",
       "    <tr>\n",
       "      <th>1</th>\n",
       "      <td>1</td>\n",
       "      <td>Clancy's Pub</td>\n",
       "      <td>3.0</td>\n",
       "      <td>NaN</td>\n",
       "    </tr>\n",
       "    <tr>\n",
       "      <th>2</th>\n",
       "      <td>2</td>\n",
       "      <td>Cool Springs Golf Center</td>\n",
       "      <td>2.5</td>\n",
       "      <td>Don't waste your time.</td>\n",
       "    </tr>\n",
       "    <tr>\n",
       "      <th>3</th>\n",
       "      <td>3</td>\n",
       "      <td>Emil's Lounge</td>\n",
       "      <td>4.5</td>\n",
       "      <td>Not easy to find. Be sure to put in directions...</td>\n",
       "    </tr>\n",
       "    <tr>\n",
       "      <th>4</th>\n",
       "      <td>3</td>\n",
       "      <td>Emil's Lounge</td>\n",
       "      <td>4.5</td>\n",
       "      <td>Your GPS will not allow you to find this place...</td>\n",
       "    </tr>\n",
       "  </tbody>\n",
       "</table>\n",
       "</div>"
      ],
      "text/plain": [
       "   Unnamed: 0                      name  stars  \\\n",
       "0           0                 Mr Hoagie    3.5   \n",
       "1           1              Clancy's Pub    3.0   \n",
       "2           2  Cool Springs Golf Center    2.5   \n",
       "3           3             Emil's Lounge    4.5   \n",
       "4           3             Emil's Lounge    4.5   \n",
       "\n",
       "                                                text  \n",
       "0           Pizza is garbage. Hoagies are excellent.  \n",
       "1                                                NaN  \n",
       "2                             Don't waste your time.  \n",
       "3  Not easy to find. Be sure to put in directions...  \n",
       "4  Your GPS will not allow you to find this place...  "
      ]
     },
     "execution_count": 7,
     "metadata": {},
     "output_type": "execute_result"
    }
   ],
   "source": [
    "yelp.head()"
   ]
  },
  {
   "cell_type": "code",
   "execution_count": 12,
   "metadata": {
    "collapsed": false
   },
   "outputs": [
    {
     "data": {
      "text/plain": [
       "False"
      ]
     },
     "execution_count": 12,
     "metadata": {},
     "output_type": "execute_result"
    }
   ],
   "source": [
    "yelp.name.is_unique"
   ]
  },
  {
   "cell_type": "code",
   "execution_count": 13,
   "metadata": {
    "collapsed": false
   },
   "outputs": [
    {
     "data": {
      "text/plain": [
       "<pandas.core.groupby.DataFrameGroupBy object at 0x117d17790>"
      ]
     },
     "execution_count": 13,
     "metadata": {},
     "output_type": "execute_result"
    }
   ],
   "source": [
    "yelp.groupby(by = 'name', axis = 0)"
   ]
  },
  {
   "cell_type": "code",
   "execution_count": 14,
   "metadata": {
    "collapsed": false
   },
   "outputs": [
    {
     "data": {
      "text/html": [
       "<div>\n",
       "<table border=\"1\" class=\"dataframe\">\n",
       "  <thead>\n",
       "    <tr style=\"text-align: right;\">\n",
       "      <th></th>\n",
       "      <th>Unnamed: 0</th>\n",
       "      <th>name</th>\n",
       "      <th>stars</th>\n",
       "      <th>text</th>\n",
       "    </tr>\n",
       "  </thead>\n",
       "  <tbody>\n",
       "    <tr>\n",
       "      <th>0</th>\n",
       "      <td>0</td>\n",
       "      <td>Mr Hoagie</td>\n",
       "      <td>3.5</td>\n",
       "      <td>Pizza is garbage. Hoagies are excellent.</td>\n",
       "    </tr>\n",
       "    <tr>\n",
       "      <th>1</th>\n",
       "      <td>1</td>\n",
       "      <td>Clancy's Pub</td>\n",
       "      <td>3.0</td>\n",
       "      <td>NaN</td>\n",
       "    </tr>\n",
       "    <tr>\n",
       "      <th>2</th>\n",
       "      <td>2</td>\n",
       "      <td>Cool Springs Golf Center</td>\n",
       "      <td>2.5</td>\n",
       "      <td>Don't waste your time.</td>\n",
       "    </tr>\n",
       "  </tbody>\n",
       "</table>\n",
       "</div>"
      ],
      "text/plain": [
       "   Unnamed: 0                      name  stars  \\\n",
       "0           0                 Mr Hoagie    3.5   \n",
       "1           1              Clancy's Pub    3.0   \n",
       "2           2  Cool Springs Golf Center    2.5   \n",
       "\n",
       "                                       text  \n",
       "0  Pizza is garbage. Hoagies are excellent.  \n",
       "1                                       NaN  \n",
       "2                    Don't waste your time.  "
      ]
     },
     "execution_count": 14,
     "metadata": {},
     "output_type": "execute_result"
    }
   ],
   "source": [
    "yelp.head(3)"
   ]
  },
  {
   "cell_type": "code",
   "execution_count": 15,
   "metadata": {
    "collapsed": false
   },
   "outputs": [
    {
     "data": {
      "text/plain": [
       "False"
      ]
     },
     "execution_count": 15,
     "metadata": {},
     "output_type": "execute_result"
    }
   ],
   "source": [
    "yelp.name.is_unique"
   ]
  },
  {
   "cell_type": "code",
   "execution_count": 16,
   "metadata": {
    "collapsed": false
   },
   "outputs": [
    {
     "data": {
      "text/plain": [
       "0                                Mr Hoagie\n",
       "1                             Clancy's Pub\n",
       "2                 Cool Springs Golf Center\n",
       "3                            Emil's Lounge\n",
       "4                            Emil's Lounge\n",
       "5                     Grand View Golf Club\n",
       "6                    Alexion's Bar & Grill\n",
       "7                    Alexion's Bar & Grill\n",
       "8                    Alexion's Bar & Grill\n",
       "9                    Alexion's Bar & Grill\n",
       "10             Flynn's Tire & Auto Service\n",
       "11        Forsythe Miniature Golf & Snacks\n",
       "12               Quaker State Construction\n",
       "13                 Greentree Animal Clinic\n",
       "14                   Carnegie Free Library\n",
       "15                   Carnegie Free Library\n",
       "16                      Advance Auto Parts\n",
       "17                      Advance Auto Parts\n",
       "18                 Kings Family Restaurant\n",
       "19                 Kings Family Restaurant\n",
       "20                            Shop N' Save\n",
       "21                  Knorr's Sunoco Service\n",
       "22              Rossi Tailoring & Cleaners\n",
       "23                          Heidelberg B P\n",
       "24                          Heidelberg B P\n",
       "25                          Rocky's Lounge\n",
       "26                          Rocky's Lounge\n",
       "27                          Rocky's Lounge\n",
       "28                               Gab & Eat\n",
       "29                               Gab & Eat\n",
       "                        ...               \n",
       "677278                          Senor Taco\n",
       "677279                          Senor Taco\n",
       "677280                          Senor Taco\n",
       "677281                          Senor Taco\n",
       "677282                          Senor Taco\n",
       "677283                          Senor Taco\n",
       "677284                          Senor Taco\n",
       "677285                          Senor Taco\n",
       "677286                          Senor Taco\n",
       "677287                          Senor Taco\n",
       "677288                          Senor Taco\n",
       "677289                          Senor Taco\n",
       "677290                          Senor Taco\n",
       "677291                          Senor Taco\n",
       "677292                          Senor Taco\n",
       "677293                          Senor Taco\n",
       "677294                          Senor Taco\n",
       "677295                          Senor Taco\n",
       "677296                          Senor Taco\n",
       "677297                          Senor Taco\n",
       "677298                          Senor Taco\n",
       "677299                          Senor Taco\n",
       "677300                          Senor Taco\n",
       "677301                          Senor Taco\n",
       "677302                          Senor Taco\n",
       "677303                          Senor Taco\n",
       "677304                          Senor Taco\n",
       "677305                Cobblestone Auto Spa\n",
       "677306              Princess Street Suites\n",
       "677307                 Salsarita's Express\n",
       "Name: name, dtype: object"
      ]
     },
     "execution_count": 16,
     "metadata": {},
     "output_type": "execute_result"
    }
   ],
   "source": [
    "yelp.name"
   ]
  },
  {
   "cell_type": "code",
   "execution_count": 17,
   "metadata": {
    "collapsed": false
   },
   "outputs": [
    {
     "data": {
      "text/html": [
       "<div>\n",
       "<table border=\"1\" class=\"dataframe\">\n",
       "  <thead>\n",
       "    <tr style=\"text-align: right;\">\n",
       "      <th></th>\n",
       "      <th>Unnamed: 0</th>\n",
       "      <th>stars</th>\n",
       "    </tr>\n",
       "  </thead>\n",
       "  <tbody>\n",
       "    <tr>\n",
       "      <th>count</th>\n",
       "      <td>677308.000000</td>\n",
       "      <td>677308.000000</td>\n",
       "    </tr>\n",
       "    <tr>\n",
       "      <th>mean</th>\n",
       "      <td>38016.748801</td>\n",
       "      <td>3.713559</td>\n",
       "    </tr>\n",
       "    <tr>\n",
       "      <th>std</th>\n",
       "      <td>21761.433804</td>\n",
       "      <td>0.666425</td>\n",
       "    </tr>\n",
       "    <tr>\n",
       "      <th>min</th>\n",
       "      <td>0.000000</td>\n",
       "      <td>1.000000</td>\n",
       "    </tr>\n",
       "    <tr>\n",
       "      <th>25%</th>\n",
       "      <td>20285.000000</td>\n",
       "      <td>3.500000</td>\n",
       "    </tr>\n",
       "    <tr>\n",
       "      <th>50%</th>\n",
       "      <td>36000.000000</td>\n",
       "      <td>4.000000</td>\n",
       "    </tr>\n",
       "    <tr>\n",
       "      <th>75%</th>\n",
       "      <td>54575.000000</td>\n",
       "      <td>4.000000</td>\n",
       "    </tr>\n",
       "    <tr>\n",
       "      <th>max</th>\n",
       "      <td>85900.000000</td>\n",
       "      <td>5.000000</td>\n",
       "    </tr>\n",
       "  </tbody>\n",
       "</table>\n",
       "</div>"
      ],
      "text/plain": [
       "          Unnamed: 0          stars\n",
       "count  677308.000000  677308.000000\n",
       "mean    38016.748801       3.713559\n",
       "std     21761.433804       0.666425\n",
       "min         0.000000       1.000000\n",
       "25%     20285.000000       3.500000\n",
       "50%     36000.000000       4.000000\n",
       "75%     54575.000000       4.000000\n",
       "max     85900.000000       5.000000"
      ]
     },
     "execution_count": 17,
     "metadata": {},
     "output_type": "execute_result"
    }
   ],
   "source": [
    "yelp.describe()"
   ]
  },
  {
   "cell_type": "code",
   "execution_count": 32,
   "metadata": {
    "collapsed": false
   },
   "outputs": [
    {
     "data": {
      "text/plain": [
       "<seaborn.axisgrid.PairGrid at 0x10d521110>"
      ]
     },
     "execution_count": 32,
     "metadata": {},
     "output_type": "execute_result"
    }
   ],
   "source": [
    "sns.pairplot(yelp)"
   ]
  },
  {
   "cell_type": "code",
   "execution_count": 18,
   "metadata": {
    "collapsed": false
   },
   "outputs": [
    {
     "data": {
      "text/plain": [
       "False    648902\n",
       "True      28406\n",
       "Name: text, dtype: int64"
      ]
     },
     "execution_count": 18,
     "metadata": {},
     "output_type": "execute_result"
    }
   ],
   "source": [
    "yelp.text.isnull().value_counts()"
   ]
  },
  {
   "cell_type": "code",
   "execution_count": 19,
   "metadata": {
    "collapsed": false
   },
   "outputs": [
    {
     "data": {
      "text/plain": [
       "False                                                                                                                                         NaN\n",
       "True                                                                                                                                          NaN\n",
       " Sunday night is their best night with \"metalhead\"  performing everything from quiet riot to poison. Costumes and rock star 'tudes included   NaN\n",
       "!                                                                                                                                             NaN\n",
       "!    !                                                                                                                                        NaN\n",
       "! ! !                                                                                                                                         NaN\n",
       "! Been in the building 45  minutes waiting!                                                                                                   NaN\n",
       "! I really enjoyed this place, especially the wings! I highly recommend it.                                                                   NaN\n",
       "!!                                                                                                                                            NaN\n",
       "!!  !!                                                                                                                                        NaN\n",
       "!! 1 lb shrimp HnJ Special !! order of Cajun Fries and a side of rice                                                                         NaN\n",
       "!! If you love to be in the kitchen and are always looking for new toys, be prepared to spend some time here!                                 NaN\n",
       "!!!                                                                                                                                           NaN\n",
       "!!! !!!!                                                                                                                                      NaN\n",
       "!!! 99cent Tuesdays !!!                                                                                                                       NaN\n",
       "!!! Delicious meat. Brisket, YES! Chicken: YES! Green chili: YES! GO HERE NOW!                                                                NaN\n",
       "!!! the SOUND is Tremendous !!!\\ni like                                                                                                       NaN\n",
       "!!! ~ out of business ~ !!!                                                                                                                   NaN\n",
       "!!!!                                                                                                                                          NaN\n",
       "!!!! $7 for a tiny cappuccino!!!!!\\n\\navoid this joint!!!!!\\n\\ntotal robbery!!!!!                                                             NaN\n",
       "!!!!!                                                                                                                                         NaN\n",
       "!!!!! :):):)                                                                                                                                  NaN\n",
       "!!!!! Lobster, clam,,,                                                                                                                        NaN\n",
       "!!!!!!!                                                                                                                                       NaN\n",
       "!!!!!!!!                                                                                                                                      NaN\n",
       "!!!!!!!! the most pinball i have ever seen!                                                                                                   NaN\n",
       "!!!!!!!!! Dope shop! Clean. Friendly staff. Good prices. Come!                                                                                NaN\n",
       "!!!!!!!!!!!                                                                                                                                   NaN\n",
       "!!!!!!!!!!!!!!!!!!! moar carne asada !!!!!!!!!!!!!!!!!!!!                                                                                     NaN\n",
       "!!!!!!!!!!!!!!!!!!!!!!!!!!                                                                                                                    NaN\n",
       "                                                                                                                                               ..\n",
       "裝潢的很摩登，就在泳池旁邊，所以感覺非常有休閑，食物也還不錯，裝飾的食物也很漂亮，價錢就是貴了一點！                                                                                            NaN\n",
       "裝潢的很新潮，食物好像都是以日本手捲為主。\\n價格還算合理，食物品嚐一般般，擺飾也還可以！                                                                                                 NaN\n",
       "見面不如聞名！it was ok, like other Chinese restaurants in the U.S.                                                                                  NaN\n",
       "订餐体验超级差，电话号码记错，地址也记错，等了两个多小时。对商家做事风格很无语，再也不想在这家店订餐了                                                                                           NaN\n",
       "超好吃！超大份！ 点的牛扒，真的很棒！价格也不会贵  记得爱吃辣的你，一定要问服务员超辣酱                                                                                                 NaN\n",
       "超爛的服務,真丟臉。                                                                                                                                    NaN\n",
       "这家店呢，进门有股浓烈的鱼露味道。适应了还好。菜量很大。味道感觉一般吧。可能是因为我不喜欢泰国菜的缘故。                                                                                          NaN\n",
       "这家简直是垃圾中的战斗机。难吃又精致。奶奶的。都没见过这小的sushi。那什么raman居然是速食面。靠！浪费钱。黑！                                                                                   NaN\n",
       "这是一家简单但味道不错的餐厅，环境很温馨～                                                                                                                         NaN\n",
       "这是我们最喜欢的地方！there are many place for frozen yogurt , this is the best place.                                                                   NaN\n",
       "这真是一家不错的餐厅。                                                                                                                                   NaN\n",
       "送上我yelp的第一个五星评价，性价比超高的店，河粉也可以替换成面条，叉烧饭也不错，最主要是还有珍珠奶茶可以喝，还有什么可挑的呢                                                                              NaN\n",
       "這家日式料理是我吃過的最新鮮 最好吃的                                                                                                                           NaN\n",
       "週末だったので大分待ちました。                                                                                                                               NaN\n",
       "酸菜鱼粉丝超级棒。。                                                                                                                                    NaN\n",
       "陕西菜，总是满座，停车难。味道不错，就在教会对面。生意很好！就是出菜慢了些。有时间的学生很多。                                                                                               NaN\n",
       "难吃                                                                                                                                            NaN\n",
       "非常专业的脚底按摩 特别是danny 认真负责 技术到位                                                                                                                  NaN\n",
       "非常好吃的刀削面，凉皮和韭菜盒子。老板一家友好热情。推荐！                                                                                                                 NaN\n",
       "非常好吃的刀削面，凉皮和韭菜盒子。老板一家友好热情。推荐！！                                                                                                                NaN\n",
       "非常好吃的汉堡，肉饼简直棒级了，肉饼里还有炭烤的味道,好吃的duang~                                                                                                          NaN\n",
       "非常好味及價錢合理，一定再黎!                                                                                                                               NaN\n",
       "非常棒！一定要来！川菜的味道很地道，特别是凉菜里的凉拌肚丝。推荐的豆花鱼片，猪肝都很好吃，而且价格特别实惠！老板也特别可爱和热情。                                                                             NaN\n",
       "非常非常好吃，非常非常推荐                                                                                                                                 NaN\n",
       "食物好 服務態度不錯                                                                                                                                    NaN\n",
       "飲茶(Dim sum)!!!                                                                                                                                NaN\n",
       "餐厅很棒，据说这里有卡鲁最好吃的披萨。装潢很好，大的落地窗是我的喜欢的风格，很爽。到饭点人很多，最好提前预订                                                                                        NaN\n",
       "鮭魚料理很讚                                                                                                                                        NaN\n",
       "，thank you very much very nice place. and                                                                                                     NaN\n",
       "＼(^o^)／                                                                                                                                       NaN\n",
       "Name: text, dtype: float64"
      ]
     },
     "execution_count": 19,
     "metadata": {},
     "output_type": "execute_result"
    }
   ],
   "source": [
    "(yelp.text.isnull().value_counts()) / (yelp.text.value_counts())"
   ]
  },
  {
   "cell_type": "code",
   "execution_count": 25,
   "metadata": {
    "collapsed": false
   },
   "outputs": [
    {
     "data": {
      "text/plain": [
       "<bound method Series.dropna of 0                  Pizza is garbage. Hoagies are excellent.\n",
       "1                                                       NaN\n",
       "2                                    Don't waste your time.\n",
       "3         Not easy to find. Be sure to put in directions...\n",
       "4         Your GPS will not allow you to find this place...\n",
       "5                                                       NaN\n",
       "6                                     Great drink specials!\n",
       "7         Friendly staff, good food, great beer selectio...\n",
       "8         Fantastic! Great food, excellent beer selectio...\n",
       "9         I love this place! Great prices, great food, g...\n",
       "10                                                      NaN\n",
       "11                                                      NaN\n",
       "12                                                      NaN\n",
       "13                                                      NaN\n",
       "14                                   Beautiful restoration.\n",
       "15                          Home to Stage 62 theatre group.\n",
       "16                    A God send if you're not a gear head!\n",
       "17           Great people ... great service ... always busy\n",
       "18              Family atmosphere and super friendly staff!\n",
       "19        Sarah rocks! Best waitress here! Be sure to ge...\n",
       "20                                                      NaN\n",
       "21                                                      NaN\n",
       "22                                                      NaN\n",
       "23                                            Unleaded 3.42\n",
       "24                                            Gas ...  3.45\n",
       "25        Great local bar. Theresa does a great job. San...\n",
       "26        Friendly staff. Good service. Awesome fish san...\n",
       "27        Decent selection of more than just bar food. \\...\n",
       "28                                           I'm in heaven.\n",
       "29        If you haven't come for lunch you are missing ...\n",
       "                                ...                        \n",
       "677278                      Open til 2 am Friday & Saturday\n",
       "677279                         Get the carne asada fries...\n",
       "677280    I like that their guacamole doesn't have tomat...\n",
       "677281    Good breakfast burritos , shrimp burrito and s...\n",
       "677282    The drive thru takes a little bit so it might ...\n",
       "677283                              Carne Asada Burrito A++\n",
       "677284    I got a cheese enchilada here and the cheese i...\n",
       "677285    I love this fast food Mexican restaurant. You ...\n",
       "677286                          Señor combo.  Enough said!!\n",
       "677287                                            Breakfast\n",
       "677288    Drive thru is taking forever  should if went i...\n",
       "677289                               Carnitas burrito rocks\n",
       "677290                             Pretty good tacos folks!\n",
       "677291    Breakfast im starving... kinda unhappy she mes...\n",
       "677292    Drive thru sucks but its worth the wait! Love ...\n",
       "677293    Wth is a carne asada red chile I am about to t...\n",
       "677294    This food is more authentic than your typical ...\n",
       "677295    I had the chipotle chicken burrito wet.. One w...\n",
       "677296                        Mm mm mmmmm I love senor taco\n",
       "677297                                           Overpriced\n",
       "677298    Quick Mexican food more authentic than Taco Be...\n",
       "677299                                  Totes for Realsies!\n",
       "677300                              They added more seating\n",
       "677301    Taco Tuesday $1 Carne asada mini tacos on corn...\n",
       "677302    Food is good, not low fat though! Service is g...\n",
       "677303    Very good burritos! My kids loved it!Best sals...\n",
       "677304    Sixth night of Mexican in Phoenix and this pla...\n",
       "677305    $20 a month for unlimited washes! Thank Carlos...\n",
       "677306                                                  NaN\n",
       "677307                                                  NaN\n",
       "Name: text, dtype: object>"
      ]
     },
     "execution_count": 25,
     "metadata": {},
     "output_type": "execute_result"
    }
   ],
   "source": [
    "yelp.text.dropna"
   ]
  },
  {
   "cell_type": "code",
   "execution_count": 5,
   "metadata": {
    "collapsed": true
   },
   "outputs": [],
   "source": [
    "yelp_clean = yelp.dropna()"
   ]
  },
  {
   "cell_type": "code",
   "execution_count": 6,
   "metadata": {
    "collapsed": false
   },
   "outputs": [],
   "source": [
    "del yelp_clean['Unnamed: 0']"
   ]
  },
  {
   "cell_type": "code",
   "execution_count": 10,
   "metadata": {
    "collapsed": false
   },
   "outputs": [
    {
     "data": {
      "text/html": [
       "<div>\n",
       "<table border=\"1\" class=\"dataframe\">\n",
       "  <thead>\n",
       "    <tr style=\"text-align: right;\">\n",
       "      <th></th>\n",
       "      <th>name</th>\n",
       "      <th>stars</th>\n",
       "      <th>text</th>\n",
       "    </tr>\n",
       "  </thead>\n",
       "  <tbody>\n",
       "    <tr>\n",
       "      <th>0</th>\n",
       "      <td>Mr Hoagie</td>\n",
       "      <td>3.5</td>\n",
       "      <td>Pizza is garbage. Hoagies are excellent.</td>\n",
       "    </tr>\n",
       "    <tr>\n",
       "      <th>2</th>\n",
       "      <td>Cool Springs Golf Center</td>\n",
       "      <td>2.5</td>\n",
       "      <td>Don't waste your time.</td>\n",
       "    </tr>\n",
       "    <tr>\n",
       "      <th>3</th>\n",
       "      <td>Emil's Lounge</td>\n",
       "      <td>4.5</td>\n",
       "      <td>Not easy to find. Be sure to put in directions...</td>\n",
       "    </tr>\n",
       "    <tr>\n",
       "      <th>4</th>\n",
       "      <td>Emil's Lounge</td>\n",
       "      <td>4.5</td>\n",
       "      <td>Your GPS will not allow you to find this place...</td>\n",
       "    </tr>\n",
       "    <tr>\n",
       "      <th>6</th>\n",
       "      <td>Alexion's Bar &amp; Grill</td>\n",
       "      <td>4.0</td>\n",
       "      <td>Great drink specials!</td>\n",
       "    </tr>\n",
       "  </tbody>\n",
       "</table>\n",
       "</div>"
      ],
      "text/plain": [
       "                       name  stars  \\\n",
       "0                 Mr Hoagie    3.5   \n",
       "2  Cool Springs Golf Center    2.5   \n",
       "3             Emil's Lounge    4.5   \n",
       "4             Emil's Lounge    4.5   \n",
       "6     Alexion's Bar & Grill    4.0   \n",
       "\n",
       "                                                text  \n",
       "0           Pizza is garbage. Hoagies are excellent.  \n",
       "2                             Don't waste your time.  \n",
       "3  Not easy to find. Be sure to put in directions...  \n",
       "4  Your GPS will not allow you to find this place...  \n",
       "6                              Great drink specials!  "
      ]
     },
     "execution_count": 10,
     "metadata": {},
     "output_type": "execute_result"
    }
   ],
   "source": [
    "yelp_clean.head()"
   ]
  },
  {
   "cell_type": "code",
   "execution_count": 20,
   "metadata": {
    "collapsed": false
   },
   "outputs": [
    {
     "data": {
      "text/plain": [
       "(648902, 3)"
      ]
     },
     "execution_count": 20,
     "metadata": {},
     "output_type": "execute_result"
    }
   ],
   "source": [
    "yelp_clean.shape"
   ]
  },
  {
   "cell_type": "code",
   "execution_count": 8,
   "metadata": {
    "collapsed": true
   },
   "outputs": [],
   "source": [
    "from sklearn.feature_extraction.text import TfidfVectorizer\n",
    "\n",
    "tfidf  = TfidfVectorizer(\n",
    "                ngram_range = (1, 2), # Have n-gram sizes of 1 and two\n",
    "                stop_words = 'english', # Use english stop words\n",
    "                binary = False, # Count frequency rather than appearance\n",
    "                max_features = 300,\n",
    "                analyzer = 'word',\n",
    "                encoding= 'utf-8') # Take 300 top words"
   ]
  },
  {
   "cell_type": "code",
   "execution_count": 10,
   "metadata": {
    "collapsed": false
   },
   "outputs": [
    {
     "data": {
      "text/plain": [
       "<648902x300 sparse matrix of type '<type 'numpy.float64'>'\n",
       "\twith 1916362 stored elements in Compressed Sparse Row format>"
      ]
     },
     "execution_count": 10,
     "metadata": {},
     "output_type": "execute_result"
    }
   ],
   "source": [
    "text_mat = tfidf.fit_transform(yelp_clean.text) # fit to each of the revies present\n",
    "text_mat"
   ]
  },
  {
   "cell_type": "code",
   "execution_count": 12,
   "metadata": {
    "collapsed": true
   },
   "outputs": [],
   "source": [
    "features = tfidf.get_feature_names()"
   ]
  },
  {
   "cell_type": "code",
   "execution_count": 14,
   "metadata": {
    "collapsed": false
   },
   "outputs": [
    {
     "data": {
      "text/plain": [
       "<648902x300 sparse matrix of type '<type 'numpy.int64'>'\n",
       "\twith 1828020 stored elements in Compressed Sparse Row format>"
      ]
     },
     "execution_count": 14,
     "metadata": {},
     "output_type": "execute_result"
    }
   ],
   "source": [
    "from sklearn.feature_extraction.text import CountVectorizer\n",
    "\n",
    "vectorizer = CountVectorizer(analyzer= 'word', vocabulary= features, stop_words=\"english\")\n",
    "vectorizer.fit_transform(yelp_clean.text)"
   ]
  },
  {
   "cell_type": "code",
   "execution_count": 15,
   "metadata": {
    "collapsed": false
   },
   "outputs": [],
   "source": [
    "cv = vectorizer.fit_transform(yelp_clean.text)"
   ]
  },
  {
   "cell_type": "code",
   "execution_count": 16,
   "metadata": {
    "collapsed": false
   },
   "outputs": [],
   "source": [
    "cvd = cv.todense()"
   ]
  },
  {
   "cell_type": "code",
   "execution_count": 18,
   "metadata": {
    "collapsed": false
   },
   "outputs": [],
   "source": [
    "from sklearn.feature_selection import SelectKBest\n",
    "from itertools import compress\n",
    "from sklearn.linear_model import LogisticRegression\n",
    "\n",
    "\n",
    "\n",
    "\n",
    "SKBest = SelectKBest(k=100)"
   ]
  },
  {
   "cell_type": "code",
   "execution_count": 45,
   "metadata": {
    "collapsed": false
   },
   "outputs": [
    {
     "data": {
      "text/plain": [
       "array([ 1. ,  1.5,  2. ,  2.5,  3. ,  3.5,  4. ,  4.5,  5. ])"
      ]
     },
     "execution_count": 45,
     "metadata": {},
     "output_type": "execute_result"
    }
   ],
   "source": [
    "from sklearn import preprocessing\n",
    "le = preprocessing.LabelEncoder()\n",
    "le.fit(yelp_clean.stars)\n",
    "le.classes_"
   ]
  },
  {
   "cell_type": "code",
   "execution_count": 55,
   "metadata": {
    "collapsed": false
   },
   "outputs": [],
   "source": [
    "y = le.transform(yelp_clean.stars)"
   ]
  },
  {
   "cell_type": "code",
   "execution_count": 56,
   "metadata": {
    "collapsed": false
   },
   "outputs": [
    {
     "data": {
      "text/plain": [
       "array([5, 3, 7, ..., 5, 5, 4])"
      ]
     },
     "execution_count": 56,
     "metadata": {},
     "output_type": "execute_result"
    }
   ],
   "source": [
    "y"
   ]
  },
  {
   "cell_type": "code",
   "execution_count": null,
   "metadata": {
    "collapsed": true
   },
   "outputs": [],
   "source": []
  },
  {
   "cell_type": "code",
   "execution_count": 23,
   "metadata": {
    "collapsed": false
   },
   "outputs": [
    {
     "name": "stderr",
     "output_type": "stream",
     "text": [
      "//anaconda/envs/DSIenv/lib/python2.7/site-packages/sklearn/feature_selection/univariate_selection.py:113: UserWarning: Features [ 59  91  92  93  99 106 107 110 111 112 118 132 140 158 162 206 227] are constant.\n",
      "  UserWarning)\n"
     ]
    }
   ],
   "source": [
    "arr = SKBest.fit_transform(cvd, y)"
   ]
  },
  {
   "cell_type": "code",
   "execution_count": 24,
   "metadata": {
    "collapsed": false
   },
   "outputs": [
    {
     "data": {
      "text/plain": [
       "(648902, 100)"
      ]
     },
     "execution_count": 24,
     "metadata": {},
     "output_type": "execute_result"
    }
   ],
   "source": [
    "arr.shape"
   ]
  },
  {
   "cell_type": "code",
   "execution_count": 25,
   "metadata": {
    "collapsed": true
   },
   "outputs": [],
   "source": [
    "filt = SKBest.get_support()"
   ]
  },
  {
   "cell_type": "code",
   "execution_count": 26,
   "metadata": {
    "collapsed": true
   },
   "outputs": [],
   "source": [
    "filtered_features = list(compress(features, filt))"
   ]
  },
  {
   "cell_type": "code",
   "execution_count": 27,
   "metadata": {
    "collapsed": true
   },
   "outputs": [],
   "source": [
    "df = pd.DataFrame(data=arr, \n",
    "                  index=None, \n",
    "                  columns=filtered_features)"
   ]
  },
  {
   "cell_type": "code",
   "execution_count": null,
   "metadata": {
    "collapsed": true
   },
   "outputs": [],
   "source": []
  },
  {
   "cell_type": "code",
   "execution_count": 57,
   "metadata": {
    "collapsed": false
   },
   "outputs": [],
   "source": [
    "from sklearn.cross_validation import train_test_split, cross_val_score\n",
    "X_train, X_test, y_train, y_test = train_test_split(df, y, test_size = .30)"
   ]
  },
  {
   "cell_type": "code",
   "execution_count": null,
   "metadata": {
    "collapsed": true
   },
   "outputs": [],
   "source": [
    "# y_train1 = y_train.map(lambda x: x*2).astype(\"int\")"
   ]
  },
  {
   "cell_type": "code",
   "execution_count": 58,
   "metadata": {
    "collapsed": true
   },
   "outputs": [],
   "source": [
    "LogReg = LogisticRegression()"
   ]
  },
  {
   "cell_type": "code",
   "execution_count": 59,
   "metadata": {
    "collapsed": false
   },
   "outputs": [
    {
     "data": {
      "text/plain": [
       "LogisticRegression(C=1.0, class_weight=None, dual=False, fit_intercept=True,\n",
       "          intercept_scaling=1, max_iter=100, multi_class='ovr', n_jobs=1,\n",
       "          penalty='l2', random_state=None, solver='liblinear', tol=0.0001,\n",
       "          verbose=0, warm_start=False)"
      ]
     },
     "execution_count": 59,
     "metadata": {},
     "output_type": "execute_result"
    }
   ],
   "source": [
    "LogReg.fit(X_train, y_train)"
   ]
  },
  {
   "cell_type": "code",
   "execution_count": 62,
   "metadata": {
    "collapsed": false
   },
   "outputs": [
    {
     "data": {
      "text/plain": [
       "0.3479463092567438"
      ]
     },
     "execution_count": 62,
     "metadata": {},
     "output_type": "execute_result"
    }
   ],
   "source": [
    "LogReg.score(X_train, y_train)"
   ]
  },
  {
   "cell_type": "code",
   "execution_count": 66,
   "metadata": {
    "collapsed": false
   },
   "outputs": [],
   "source": [
    "y_pred = LogReg.predict(X_test)"
   ]
  },
  {
   "cell_type": "code",
   "execution_count": 65,
   "metadata": {
    "collapsed": true
   },
   "outputs": [],
   "source": [
    "from sklearn.metrics import confusion_matrix, classification_report"
   ]
  },
  {
   "cell_type": "code",
   "execution_count": 71,
   "metadata": {
    "collapsed": false
   },
   "outputs": [
    {
     "name": "stdout",
     "output_type": "stream",
     "text": [
      "             precision    recall  f1-score   support\n",
      "\n",
      "          0       0.00      0.00      0.00       172\n",
      "          1       0.00      0.00      0.00      1202\n",
      "          2       0.15      0.00      0.00      3334\n",
      "          3       0.23      0.01      0.01     10667\n",
      "          4       0.20      0.01      0.01     24579\n",
      "          5       0.29      0.08      0.13     51948\n",
      "          6       0.35      0.94      0.51     66815\n",
      "          7       0.33      0.02      0.03     31077\n",
      "          8       0.25      0.01      0.02      4877\n",
      "\n",
      "avg / total       0.30      0.35      0.22    194671\n",
      "\n"
     ]
    }
   ],
   "source": [
    "print classification_report(y_test, y_pred)"
   ]
  },
  {
   "cell_type": "code",
   "execution_count": 72,
   "metadata": {
    "collapsed": false
   },
   "outputs": [
    {
     "data": {
      "text/plain": [
       "['warm_start',\n",
       " 'C',\n",
       " 'n_jobs',\n",
       " 'verbose',\n",
       " 'intercept_scaling',\n",
       " 'fit_intercept',\n",
       " 'max_iter',\n",
       " 'penalty',\n",
       " 'multi_class',\n",
       " 'random_state',\n",
       " 'dual',\n",
       " 'tol',\n",
       " 'solver',\n",
       " 'class_weight']"
      ]
     },
     "execution_count": 72,
     "metadata": {},
     "output_type": "execute_result"
    }
   ],
   "source": [
    "LogReg.get_params().keys()"
   ]
  },
  {
   "cell_type": "code",
   "execution_count": 73,
   "metadata": {
    "collapsed": false
   },
   "outputs": [
    {
     "name": "stderr",
     "output_type": "stream",
     "text": [
      "//anaconda/envs/DSIenv/lib/python2.7/site-packages/sklearn/grid_search.py:43: DeprecationWarning: This module was deprecated in version 0.18 in favor of the model_selection module into which all the refactored classes and functions are moved. This module will be removed in 0.20.\n",
      "  DeprecationWarning)\n"
     ]
    }
   ],
   "source": [
    "from sklearn.grid_search import GridSearchCV"
   ]
  },
  {
   "cell_type": "code",
   "execution_count": 77,
   "metadata": {
    "collapsed": true
   },
   "outputs": [],
   "source": [
    "grid = GridSearchCV(LogReg,\n",
    "                   param_grid = {\"logisticregression__C\":[1.0]})"
   ]
  },
  {
   "cell_type": "code",
   "execution_count": 78,
   "metadata": {
    "collapsed": false
   },
   "outputs": [
    {
     "ename": "ValueError",
     "evalue": "Invalid parameter logisticregression for estimator LogisticRegression(C=1.0, class_weight=None, dual=False, fit_intercept=True,\n          intercept_scaling=1, max_iter=100, multi_class='ovr', n_jobs=1,\n          penalty='l2', random_state=None, solver='liblinear', tol=0.0001,\n          verbose=0, warm_start=False). Check the list of available parameters with `estimator.get_params().keys()`.",
     "output_type": "error",
     "traceback": [
      "\u001b[0;31m---------------------------------------------------------------------------\u001b[0m",
      "\u001b[0;31mValueError\u001b[0m                                Traceback (most recent call last)",
      "\u001b[0;32m<ipython-input-78-4e204e88670c>\u001b[0m in \u001b[0;36m<module>\u001b[0;34m()\u001b[0m\n\u001b[0;32m----> 1\u001b[0;31m \u001b[0mgrid\u001b[0m\u001b[0;34m.\u001b[0m\u001b[0mfit\u001b[0m\u001b[0;34m(\u001b[0m\u001b[0mX_train\u001b[0m\u001b[0;34m,\u001b[0m \u001b[0my_train\u001b[0m\u001b[0;34m)\u001b[0m\u001b[0;34m\u001b[0m\u001b[0m\n\u001b[0m",
      "\u001b[0;32m//anaconda/envs/DSIenv/lib/python2.7/site-packages/sklearn/grid_search.pyc\u001b[0m in \u001b[0;36mfit\u001b[0;34m(self, X, y)\u001b[0m\n\u001b[1;32m    811\u001b[0m \u001b[0;34m\u001b[0m\u001b[0m\n\u001b[1;32m    812\u001b[0m         \"\"\"\n\u001b[0;32m--> 813\u001b[0;31m         \u001b[0;32mreturn\u001b[0m \u001b[0mself\u001b[0m\u001b[0;34m.\u001b[0m\u001b[0m_fit\u001b[0m\u001b[0;34m(\u001b[0m\u001b[0mX\u001b[0m\u001b[0;34m,\u001b[0m \u001b[0my\u001b[0m\u001b[0;34m,\u001b[0m \u001b[0mParameterGrid\u001b[0m\u001b[0;34m(\u001b[0m\u001b[0mself\u001b[0m\u001b[0;34m.\u001b[0m\u001b[0mparam_grid\u001b[0m\u001b[0;34m)\u001b[0m\u001b[0;34m)\u001b[0m\u001b[0;34m\u001b[0m\u001b[0m\n\u001b[0m\u001b[1;32m    814\u001b[0m \u001b[0;34m\u001b[0m\u001b[0m\n\u001b[1;32m    815\u001b[0m \u001b[0;34m\u001b[0m\u001b[0m\n",
      "\u001b[0;32m//anaconda/envs/DSIenv/lib/python2.7/site-packages/sklearn/grid_search.pyc\u001b[0m in \u001b[0;36m_fit\u001b[0;34m(self, X, y, parameter_iterable)\u001b[0m\n\u001b[1;32m    559\u001b[0m                                     \u001b[0mself\u001b[0m\u001b[0;34m.\u001b[0m\u001b[0mfit_params\u001b[0m\u001b[0;34m,\u001b[0m \u001b[0mreturn_parameters\u001b[0m\u001b[0;34m=\u001b[0m\u001b[0mTrue\u001b[0m\u001b[0;34m,\u001b[0m\u001b[0;34m\u001b[0m\u001b[0m\n\u001b[1;32m    560\u001b[0m                                     error_score=self.error_score)\n\u001b[0;32m--> 561\u001b[0;31m                 \u001b[0;32mfor\u001b[0m \u001b[0mparameters\u001b[0m \u001b[0;32min\u001b[0m \u001b[0mparameter_iterable\u001b[0m\u001b[0;34m\u001b[0m\u001b[0m\n\u001b[0m\u001b[1;32m    562\u001b[0m                 for train, test in cv)\n\u001b[1;32m    563\u001b[0m \u001b[0;34m\u001b[0m\u001b[0m\n",
      "\u001b[0;32m//anaconda/envs/DSIenv/lib/python2.7/site-packages/sklearn/externals/joblib/parallel.pyc\u001b[0m in \u001b[0;36m__call__\u001b[0;34m(self, iterable)\u001b[0m\n\u001b[1;32m    756\u001b[0m             \u001b[0;31m# was dispatched. In particular this covers the edge\u001b[0m\u001b[0;34m\u001b[0m\u001b[0;34m\u001b[0m\u001b[0m\n\u001b[1;32m    757\u001b[0m             \u001b[0;31m# case of Parallel used with an exhausted iterator.\u001b[0m\u001b[0;34m\u001b[0m\u001b[0;34m\u001b[0m\u001b[0m\n\u001b[0;32m--> 758\u001b[0;31m             \u001b[0;32mwhile\u001b[0m \u001b[0mself\u001b[0m\u001b[0;34m.\u001b[0m\u001b[0mdispatch_one_batch\u001b[0m\u001b[0;34m(\u001b[0m\u001b[0miterator\u001b[0m\u001b[0;34m)\u001b[0m\u001b[0;34m:\u001b[0m\u001b[0;34m\u001b[0m\u001b[0m\n\u001b[0m\u001b[1;32m    759\u001b[0m                 \u001b[0mself\u001b[0m\u001b[0;34m.\u001b[0m\u001b[0m_iterating\u001b[0m \u001b[0;34m=\u001b[0m \u001b[0mTrue\u001b[0m\u001b[0;34m\u001b[0m\u001b[0m\n\u001b[1;32m    760\u001b[0m             \u001b[0;32melse\u001b[0m\u001b[0;34m:\u001b[0m\u001b[0;34m\u001b[0m\u001b[0m\n",
      "\u001b[0;32m//anaconda/envs/DSIenv/lib/python2.7/site-packages/sklearn/externals/joblib/parallel.pyc\u001b[0m in \u001b[0;36mdispatch_one_batch\u001b[0;34m(self, iterator)\u001b[0m\n\u001b[1;32m    606\u001b[0m                 \u001b[0;32mreturn\u001b[0m \u001b[0mFalse\u001b[0m\u001b[0;34m\u001b[0m\u001b[0m\n\u001b[1;32m    607\u001b[0m             \u001b[0;32melse\u001b[0m\u001b[0;34m:\u001b[0m\u001b[0;34m\u001b[0m\u001b[0m\n\u001b[0;32m--> 608\u001b[0;31m                 \u001b[0mself\u001b[0m\u001b[0;34m.\u001b[0m\u001b[0m_dispatch\u001b[0m\u001b[0;34m(\u001b[0m\u001b[0mtasks\u001b[0m\u001b[0;34m)\u001b[0m\u001b[0;34m\u001b[0m\u001b[0m\n\u001b[0m\u001b[1;32m    609\u001b[0m                 \u001b[0;32mreturn\u001b[0m \u001b[0mTrue\u001b[0m\u001b[0;34m\u001b[0m\u001b[0m\n\u001b[1;32m    610\u001b[0m \u001b[0;34m\u001b[0m\u001b[0m\n",
      "\u001b[0;32m//anaconda/envs/DSIenv/lib/python2.7/site-packages/sklearn/externals/joblib/parallel.pyc\u001b[0m in \u001b[0;36m_dispatch\u001b[0;34m(self, batch)\u001b[0m\n\u001b[1;32m    569\u001b[0m         \u001b[0mdispatch_timestamp\u001b[0m \u001b[0;34m=\u001b[0m \u001b[0mtime\u001b[0m\u001b[0;34m.\u001b[0m\u001b[0mtime\u001b[0m\u001b[0;34m(\u001b[0m\u001b[0;34m)\u001b[0m\u001b[0;34m\u001b[0m\u001b[0m\n\u001b[1;32m    570\u001b[0m         \u001b[0mcb\u001b[0m \u001b[0;34m=\u001b[0m \u001b[0mBatchCompletionCallBack\u001b[0m\u001b[0;34m(\u001b[0m\u001b[0mdispatch_timestamp\u001b[0m\u001b[0;34m,\u001b[0m \u001b[0mlen\u001b[0m\u001b[0;34m(\u001b[0m\u001b[0mbatch\u001b[0m\u001b[0;34m)\u001b[0m\u001b[0;34m,\u001b[0m \u001b[0mself\u001b[0m\u001b[0;34m)\u001b[0m\u001b[0;34m\u001b[0m\u001b[0m\n\u001b[0;32m--> 571\u001b[0;31m         \u001b[0mjob\u001b[0m \u001b[0;34m=\u001b[0m \u001b[0mself\u001b[0m\u001b[0;34m.\u001b[0m\u001b[0m_backend\u001b[0m\u001b[0;34m.\u001b[0m\u001b[0mapply_async\u001b[0m\u001b[0;34m(\u001b[0m\u001b[0mbatch\u001b[0m\u001b[0;34m,\u001b[0m \u001b[0mcallback\u001b[0m\u001b[0;34m=\u001b[0m\u001b[0mcb\u001b[0m\u001b[0;34m)\u001b[0m\u001b[0;34m\u001b[0m\u001b[0m\n\u001b[0m\u001b[1;32m    572\u001b[0m         \u001b[0mself\u001b[0m\u001b[0;34m.\u001b[0m\u001b[0m_jobs\u001b[0m\u001b[0;34m.\u001b[0m\u001b[0mappend\u001b[0m\u001b[0;34m(\u001b[0m\u001b[0mjob\u001b[0m\u001b[0;34m)\u001b[0m\u001b[0;34m\u001b[0m\u001b[0m\n\u001b[1;32m    573\u001b[0m \u001b[0;34m\u001b[0m\u001b[0m\n",
      "\u001b[0;32m//anaconda/envs/DSIenv/lib/python2.7/site-packages/sklearn/externals/joblib/_parallel_backends.pyc\u001b[0m in \u001b[0;36mapply_async\u001b[0;34m(self, func, callback)\u001b[0m\n\u001b[1;32m    107\u001b[0m     \u001b[0;32mdef\u001b[0m \u001b[0mapply_async\u001b[0m\u001b[0;34m(\u001b[0m\u001b[0mself\u001b[0m\u001b[0;34m,\u001b[0m \u001b[0mfunc\u001b[0m\u001b[0;34m,\u001b[0m \u001b[0mcallback\u001b[0m\u001b[0;34m=\u001b[0m\u001b[0mNone\u001b[0m\u001b[0;34m)\u001b[0m\u001b[0;34m:\u001b[0m\u001b[0;34m\u001b[0m\u001b[0m\n\u001b[1;32m    108\u001b[0m         \u001b[0;34m\"\"\"Schedule a func to be run\"\"\"\u001b[0m\u001b[0;34m\u001b[0m\u001b[0m\n\u001b[0;32m--> 109\u001b[0;31m         \u001b[0mresult\u001b[0m \u001b[0;34m=\u001b[0m \u001b[0mImmediateResult\u001b[0m\u001b[0;34m(\u001b[0m\u001b[0mfunc\u001b[0m\u001b[0;34m)\u001b[0m\u001b[0;34m\u001b[0m\u001b[0m\n\u001b[0m\u001b[1;32m    110\u001b[0m         \u001b[0;32mif\u001b[0m \u001b[0mcallback\u001b[0m\u001b[0;34m:\u001b[0m\u001b[0;34m\u001b[0m\u001b[0m\n\u001b[1;32m    111\u001b[0m             \u001b[0mcallback\u001b[0m\u001b[0;34m(\u001b[0m\u001b[0mresult\u001b[0m\u001b[0;34m)\u001b[0m\u001b[0;34m\u001b[0m\u001b[0m\n",
      "\u001b[0;32m//anaconda/envs/DSIenv/lib/python2.7/site-packages/sklearn/externals/joblib/_parallel_backends.pyc\u001b[0m in \u001b[0;36m__init__\u001b[0;34m(self, batch)\u001b[0m\n\u001b[1;32m    320\u001b[0m         \u001b[0;31m# Don't delay the application, to avoid keeping the input\u001b[0m\u001b[0;34m\u001b[0m\u001b[0;34m\u001b[0m\u001b[0m\n\u001b[1;32m    321\u001b[0m         \u001b[0;31m# arguments in memory\u001b[0m\u001b[0;34m\u001b[0m\u001b[0;34m\u001b[0m\u001b[0m\n\u001b[0;32m--> 322\u001b[0;31m         \u001b[0mself\u001b[0m\u001b[0;34m.\u001b[0m\u001b[0mresults\u001b[0m \u001b[0;34m=\u001b[0m \u001b[0mbatch\u001b[0m\u001b[0;34m(\u001b[0m\u001b[0;34m)\u001b[0m\u001b[0;34m\u001b[0m\u001b[0m\n\u001b[0m\u001b[1;32m    323\u001b[0m \u001b[0;34m\u001b[0m\u001b[0m\n\u001b[1;32m    324\u001b[0m     \u001b[0;32mdef\u001b[0m \u001b[0mget\u001b[0m\u001b[0;34m(\u001b[0m\u001b[0mself\u001b[0m\u001b[0;34m)\u001b[0m\u001b[0;34m:\u001b[0m\u001b[0;34m\u001b[0m\u001b[0m\n",
      "\u001b[0;32m//anaconda/envs/DSIenv/lib/python2.7/site-packages/sklearn/externals/joblib/parallel.pyc\u001b[0m in \u001b[0;36m__call__\u001b[0;34m(self)\u001b[0m\n\u001b[1;32m    129\u001b[0m \u001b[0;34m\u001b[0m\u001b[0m\n\u001b[1;32m    130\u001b[0m     \u001b[0;32mdef\u001b[0m \u001b[0m__call__\u001b[0m\u001b[0;34m(\u001b[0m\u001b[0mself\u001b[0m\u001b[0;34m)\u001b[0m\u001b[0;34m:\u001b[0m\u001b[0;34m\u001b[0m\u001b[0m\n\u001b[0;32m--> 131\u001b[0;31m         \u001b[0;32mreturn\u001b[0m \u001b[0;34m[\u001b[0m\u001b[0mfunc\u001b[0m\u001b[0;34m(\u001b[0m\u001b[0;34m*\u001b[0m\u001b[0margs\u001b[0m\u001b[0;34m,\u001b[0m \u001b[0;34m**\u001b[0m\u001b[0mkwargs\u001b[0m\u001b[0;34m)\u001b[0m \u001b[0;32mfor\u001b[0m \u001b[0mfunc\u001b[0m\u001b[0;34m,\u001b[0m \u001b[0margs\u001b[0m\u001b[0;34m,\u001b[0m \u001b[0mkwargs\u001b[0m \u001b[0;32min\u001b[0m \u001b[0mself\u001b[0m\u001b[0;34m.\u001b[0m\u001b[0mitems\u001b[0m\u001b[0;34m]\u001b[0m\u001b[0;34m\u001b[0m\u001b[0m\n\u001b[0m\u001b[1;32m    132\u001b[0m \u001b[0;34m\u001b[0m\u001b[0m\n\u001b[1;32m    133\u001b[0m     \u001b[0;32mdef\u001b[0m \u001b[0m__len__\u001b[0m\u001b[0;34m(\u001b[0m\u001b[0mself\u001b[0m\u001b[0;34m)\u001b[0m\u001b[0;34m:\u001b[0m\u001b[0;34m\u001b[0m\u001b[0m\n",
      "\u001b[0;32m//anaconda/envs/DSIenv/lib/python2.7/site-packages/sklearn/cross_validation.pyc\u001b[0m in \u001b[0;36m_fit_and_score\u001b[0;34m(estimator, X, y, scorer, train, test, verbose, parameters, fit_params, return_train_score, return_parameters, error_score)\u001b[0m\n\u001b[1;32m   1600\u001b[0m \u001b[0;34m\u001b[0m\u001b[0m\n\u001b[1;32m   1601\u001b[0m     \u001b[0;32mif\u001b[0m \u001b[0mparameters\u001b[0m \u001b[0;32mis\u001b[0m \u001b[0;32mnot\u001b[0m \u001b[0mNone\u001b[0m\u001b[0;34m:\u001b[0m\u001b[0;34m\u001b[0m\u001b[0m\n\u001b[0;32m-> 1602\u001b[0;31m         \u001b[0mestimator\u001b[0m\u001b[0;34m.\u001b[0m\u001b[0mset_params\u001b[0m\u001b[0;34m(\u001b[0m\u001b[0;34m**\u001b[0m\u001b[0mparameters\u001b[0m\u001b[0;34m)\u001b[0m\u001b[0;34m\u001b[0m\u001b[0m\n\u001b[0m\u001b[1;32m   1603\u001b[0m \u001b[0;34m\u001b[0m\u001b[0m\n\u001b[1;32m   1604\u001b[0m     \u001b[0mstart_time\u001b[0m \u001b[0;34m=\u001b[0m \u001b[0mtime\u001b[0m\u001b[0;34m.\u001b[0m\u001b[0mtime\u001b[0m\u001b[0;34m(\u001b[0m\u001b[0;34m)\u001b[0m\u001b[0;34m\u001b[0m\u001b[0m\n",
      "\u001b[0;32m//anaconda/envs/DSIenv/lib/python2.7/site-packages/sklearn/base.pyc\u001b[0m in \u001b[0;36mset_params\u001b[0;34m(self, **params)\u001b[0m\n\u001b[1;32m    280\u001b[0m                                      \u001b[0;34m'Check the list of available parameters '\u001b[0m\u001b[0;34m\u001b[0m\u001b[0m\n\u001b[1;32m    281\u001b[0m                                      \u001b[0;34m'with `estimator.get_params().keys()`.'\u001b[0m \u001b[0;34m%\u001b[0m\u001b[0;34m\u001b[0m\u001b[0m\n\u001b[0;32m--> 282\u001b[0;31m                                      (name, self))\n\u001b[0m\u001b[1;32m    283\u001b[0m                 \u001b[0msub_object\u001b[0m \u001b[0;34m=\u001b[0m \u001b[0mvalid_params\u001b[0m\u001b[0;34m[\u001b[0m\u001b[0mname\u001b[0m\u001b[0;34m]\u001b[0m\u001b[0;34m\u001b[0m\u001b[0m\n\u001b[1;32m    284\u001b[0m                 \u001b[0msub_object\u001b[0m\u001b[0;34m.\u001b[0m\u001b[0mset_params\u001b[0m\u001b[0;34m(\u001b[0m\u001b[0;34m**\u001b[0m\u001b[0;34m{\u001b[0m\u001b[0msub_name\u001b[0m\u001b[0;34m:\u001b[0m \u001b[0mvalue\u001b[0m\u001b[0;34m}\u001b[0m\u001b[0;34m)\u001b[0m\u001b[0;34m\u001b[0m\u001b[0m\n",
      "\u001b[0;31mValueError\u001b[0m: Invalid parameter logisticregression for estimator LogisticRegression(C=1.0, class_weight=None, dual=False, fit_intercept=True,\n          intercept_scaling=1, max_iter=100, multi_class='ovr', n_jobs=1,\n          penalty='l2', random_state=None, solver='liblinear', tol=0.0001,\n          verbose=0, warm_start=False). Check the list of available parameters with `estimator.get_params().keys()`."
     ]
    }
   ],
   "source": [
    "grid.fit(X_train, y_train)"
   ]
  },
  {
   "cell_type": "code",
   "execution_count": null,
   "metadata": {
    "collapsed": true
   },
   "outputs": [],
   "source": []
  },
  {
   "cell_type": "code",
   "execution_count": null,
   "metadata": {
    "collapsed": true
   },
   "outputs": [],
   "source": []
  },
  {
   "cell_type": "code",
   "execution_count": null,
   "metadata": {
    "collapsed": true
   },
   "outputs": [],
   "source": []
  }
 ],
 "metadata": {
  "anaconda-cloud": {},
  "kernelspec": {
   "display_name": "Python [conda env:DSIenv]",
   "language": "python",
   "name": "conda-env-DSIenv-py"
  },
  "language_info": {
   "codemirror_mode": {
    "name": "ipython",
    "version": 2
   },
   "file_extension": ".py",
   "mimetype": "text/x-python",
   "name": "python",
   "nbconvert_exporter": "python",
   "pygments_lexer": "ipython2",
   "version": "2.7.12"
  }
 },
 "nbformat": 4,
 "nbformat_minor": 1
}
